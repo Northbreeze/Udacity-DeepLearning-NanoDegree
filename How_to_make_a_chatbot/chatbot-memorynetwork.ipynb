{
 "cells": [
  {
   "cell_type": "code",
   "execution_count": 1,
   "metadata": {},
   "outputs": [
    {
     "name": "stderr",
     "output_type": "stream",
     "text": [
      "Using TensorFlow backend.\n"
     ]
    }
   ],
   "source": [
    "'''Trains a memory network on the bAbI dataset.\n",
    "References:\n",
    "- Jason Weston, Antoine Bordes, Sumit Chopra, Tomas Mikolov, Alexander M. Rush,\n",
    "  \"Towards AI-Complete Question Answering: A Set of Prerequisite Toy Tasks\",\n",
    "  http://arxiv.org/abs/1502.05698\n",
    "- Sainbayar Sukhbaatar, Arthur Szlam, Jason Weston, Rob Fergus,\n",
    "  \"End-To-End Memory Networks\",\n",
    "  http://arxiv.org/abs/1503.08895\n",
    "Reaches 98.6% accuracy on task 'single_supporting_fact_10k' after 120 epochs.\n",
    "Time per epoch: 3s on CPU (core i7).\n",
    "'''\n",
    "from __future__ import print_function\n",
    "\n",
    "from keras.models import Sequential, Model\n",
    "from keras.layers.embeddings import Embedding\n",
    "from keras.layers import Input, Activation, Dense, Permute, Dropout, add, dot, concatenate\n",
    "from keras.layers import LSTM\n",
    "from keras.utils.data_utils import get_file\n",
    "from keras.preprocessing.sequence import pad_sequences\n",
    "from functools import reduce\n",
    "import tarfile\n",
    "import numpy as np\n",
    "import re"
   ]
  },
  {
   "cell_type": "markdown",
   "metadata": {},
   "source": [
    "# Predifined Functions"
   ]
  },
  {
   "cell_type": "code",
   "execution_count": 2,
   "metadata": {
    "collapsed": true
   },
   "outputs": [],
   "source": [
    "def tokenize(sent):\n",
    "    '''Return the tokens of a sentence including punctuation.\n",
    "    >>> tokenize('Bob dropped the apple. Where is the apple?')\n",
    "    ['Bob', 'dropped', 'the', 'apple', '.', 'Where', 'is', 'the', 'apple', '?']\n",
    "    '''\n",
    "    return [x.strip() for x in re.split('(\\W+)?', sent) if x.strip()]\n",
    "\n",
    "\n",
    "def parse_stories(lines, only_supporting=False):\n",
    "    '''Parse stories provided in the bAbi tasks format\n",
    "    If only_supporting is true, only the sentences\n",
    "    that support the answer are kept.\n",
    "    '''\n",
    "    data = []\n",
    "    story = []\n",
    "    for line in lines:\n",
    "        line = line.decode('utf-8').strip()\n",
    "        nid, line = line.split(' ', 1)\n",
    "        nid = int(nid)\n",
    "        if nid == 1:\n",
    "            story = []\n",
    "        if '\\t' in line:\n",
    "            q, a, supporting = line.split('\\t')\n",
    "            q = tokenize(q)\n",
    "            substory = None\n",
    "            if only_supporting:\n",
    "                # Only select the related substory\n",
    "                supporting = map(int, supporting.split())\n",
    "                substory = [story[i - 1] for i in supporting]\n",
    "            else:\n",
    "                # Provide all the substories\n",
    "                substory = [x for x in story if x]\n",
    "            data.append((substory, q, a))\n",
    "            story.append('')\n",
    "        else:\n",
    "            sent = tokenize(line)\n",
    "            story.append(sent)\n",
    "    return data\n",
    "\n",
    "\n",
    "def get_stories(f, only_supporting=False, max_length=None):\n",
    "    '''Given a file name, read the file,\n",
    "    retrieve the stories,\n",
    "    and then convert the sentences into a single story.\n",
    "    If max_length is supplied,\n",
    "    any stories longer than max_length tokens will be discarded.\n",
    "    '''\n",
    "    data = parse_stories(f.readlines(), only_supporting=only_supporting)\n",
    "    flatten = lambda data: reduce(lambda x, y: x + y, data)\n",
    "    data = [(flatten(story), q, answer) for story, q, answer in data if not max_length or len(flatten(story)) < max_length]\n",
    "    return data\n",
    "\n",
    "\n",
    "def vectorize_stories(data, word_idx, story_maxlen, query_maxlen):\n",
    "    X = []\n",
    "    Xq = []\n",
    "    Y = []\n",
    "    for story, query, answer in data:\n",
    "        x = [word_idx[w] for w in story]\n",
    "        xq = [word_idx[w] for w in query]\n",
    "        # let's not forget that index 0 is reserved\n",
    "        y = np.zeros(len(word_idx) + 1)\n",
    "        y[word_idx[answer]] = 1\n",
    "        X.append(x)\n",
    "        Xq.append(xq)\n",
    "        Y.append(y)\n",
    "    return (pad_sequences(X, maxlen=story_maxlen),\n",
    "            pad_sequences(Xq, maxlen=query_maxlen), np.array(Y))"
   ]
  },
  {
   "cell_type": "markdown",
   "metadata": {},
   "source": [
    "# Download and Extracting Data"
   ]
  },
  {
   "cell_type": "code",
   "execution_count": 3,
   "metadata": {},
   "outputs": [
    {
     "name": "stdout",
     "output_type": "stream",
     "text": [
      "Downloading data from https://s3.amazonaws.com/text-datasets/babi_tasks_1-20_v1-2.tar.gz\n"
     ]
    }
   ],
   "source": [
    "try:\n",
    "    path = get_file('babi-tasks-v1-2.tar.gz', origin='https://s3.amazonaws.com/text-datasets/babi_tasks_1-20_v1-2.tar.gz')\n",
    "except:\n",
    "    print('Error downloading dataset, please download it manually:\\n'\n",
    "          '$ wget http://www.thespermwhale.com/jaseweston/babi/tasks_1-20_v1-2.tar.gz\\n'\n",
    "          '$ mv tasks_1-20_v1-2.tar.gz ~/.keras/datasets/babi-tasks-v1-2.tar.gz')\n",
    "    raise\n",
    "tar = tarfile.open(path)"
   ]
  },
  {
   "cell_type": "code",
   "execution_count": 4,
   "metadata": {
    "collapsed": true
   },
   "outputs": [],
   "source": [
    "challenges = {\n",
    "    # QA1 with 10,000 samples\n",
    "    'single_supporting_fact_10k': 'tasks_1-20_v1-2/en-10k/qa1_single-supporting-fact_{}.txt',\n",
    "    # QA2 with 10,000 samples\n",
    "    'two_supporting_facts_10k': 'tasks_1-20_v1-2/en-10k/qa2_two-supporting-facts_{}.txt',\n",
    "}\n",
    "challenge_type = 'single_supporting_fact_10k'\n",
    "challenge = challenges[challenge_type]"
   ]
  },
  {
   "cell_type": "code",
   "execution_count": 6,
   "metadata": {},
   "outputs": [
    {
     "name": "stdout",
     "output_type": "stream",
     "text": [
      "Extracting stories for the challenge: single_supporting_fact_10k\n"
     ]
    },
    {
     "name": "stderr",
     "output_type": "stream",
     "text": [
      "/data01/yangguangyao/anaconda3/lib/python3.6/re.py:212: FutureWarning: split() requires a non-empty pattern match.\n",
      "  return _compile(pattern, flags).split(string, maxsplit)\n"
     ]
    }
   ],
   "source": [
    "print('Extracting stories for the challenge:', challenge_type)\n",
    "train_stories = get_stories(tar.extractfile(challenge.format('train')))\n",
    "test_stories = get_stories(tar.extractfile(challenge.format('test')))"
   ]
  },
  {
   "cell_type": "markdown",
   "metadata": {},
   "source": [
    "# Vocab"
   ]
  },
  {
   "cell_type": "code",
   "execution_count": 15,
   "metadata": {
    "collapsed": true
   },
   "outputs": [],
   "source": [
    "vocab = set()\n",
    "for story, q, answer in train_stories + test_stories:\n",
    "    vocab |= set(story + q + [answer])\n",
    "vocab = sorted(vocab)"
   ]
  },
  {
   "cell_type": "code",
   "execution_count": 17,
   "metadata": {},
   "outputs": [],
   "source": [
    "# Reserve 0 for masking via pad_sequences\n",
    "vocab_size = len(vocab) + 1\n",
    "story_maxlen = max(map(len, (x for x, _, _ in train_stories + test_stories)))\n",
    "query_maxlen = max(map(len, (x for _, x, _ in train_stories + test_stories)))"
   ]
  },
  {
   "cell_type": "code",
   "execution_count": 18,
   "metadata": {},
   "outputs": [
    {
     "name": "stdout",
     "output_type": "stream",
     "text": [
      "-\n",
      "Vocab size: 22 unique words\n",
      "Story max length: 68 words\n",
      "Query max length: 4 words\n",
      "Number of training stories: 10000\n",
      "Number of test stories: 1000\n",
      "-\n",
      "Here's what a \"story\" tuple looks like (input, query, answer):\n",
      "(['Mary', 'moved', 'to', 'the', 'bathroom', '.', 'John', 'went', 'to', 'the', 'hallway', '.'], ['Where', 'is', 'Mary', '?'], 'bathroom')\n",
      "-\n",
      "Vectorizing the word sequences...\n"
     ]
    }
   ],
   "source": [
    "print('-')\n",
    "print('Vocab size:', vocab_size, 'unique words')\n",
    "print('Story max length:', story_maxlen, 'words')\n",
    "print('Query max length:', query_maxlen, 'words')\n",
    "print('Number of training stories:', len(train_stories))\n",
    "print('Number of test stories:', len(test_stories))\n",
    "print('-')\n",
    "print('Here\\'s what a \"story\" tuple looks like (input, query, answer):')\n",
    "print(train_stories[0])\n",
    "print('-')\n",
    "print('Vectorizing the word sequences...')"
   ]
  },
  {
   "cell_type": "code",
   "execution_count": 19,
   "metadata": {
    "collapsed": true
   },
   "outputs": [],
   "source": [
    "word_idx = dict((c, i + 1) for i, c in enumerate(vocab))\n",
    "inputs_train, queries_train, answers_train = vectorize_stories(train_stories,\n",
    "                                                               word_idx,\n",
    "                                                               story_maxlen,\n",
    "                                                               query_maxlen)\n",
    "inputs_test, queries_test, answers_test = vectorize_stories(test_stories,\n",
    "                                                            word_idx,\n",
    "                                                            story_maxlen,\n",
    "                                                            query_maxlen)"
   ]
  },
  {
   "cell_type": "code",
   "execution_count": 30,
   "metadata": {},
   "outputs": [
    {
     "name": "stdout",
     "output_type": "stream",
     "text": [
      "-\n",
      "inputs: integer tensor of shape (samples, max_length)\n",
      "inputs_train shape: (10000, 68)\n",
      "inputs_test shape: (1000, 68)\n",
      "-\n",
      "queries: integer tensor of shape (samples, max_length)\n",
      "queries_train shape: (10000, 4)\n",
      "queries_test shape: (1000, 4)\n",
      "-\n",
      "answers: binary (1 or 0) tensor of shape (samples, vocab_size)\n",
      "answers_train shape: (10000, 22)\n",
      "answers_test shape: (1000, 22)\n",
      "-\n",
      "Compiling...\n"
     ]
    }
   ],
   "source": [
    "print('-')\n",
    "print('inputs: integer tensor of shape (samples, max_length)')\n",
    "print('inputs_train shape:', inputs_train.shape)\n",
    "print('inputs_test shape:', inputs_test.shape)\n",
    "print('-')\n",
    "print('queries: integer tensor of shape (samples, max_length)')\n",
    "print('queries_train shape:', queries_train.shape)\n",
    "print('queries_test shape:', queries_test.shape)\n",
    "print('-')\n",
    "print('answers: binary (1 or 0) tensor of shape (samples, vocab_size)')\n",
    "print('answers_train shape:', answers_train.shape)\n",
    "print('answers_test shape:', answers_test.shape)\n",
    "print('-')\n",
    "print('Compiling...')"
   ]
  },
  {
   "cell_type": "markdown",
   "metadata": {},
   "source": [
    "# Build Network"
   ]
  },
  {
   "cell_type": "markdown",
   "metadata": {},
   "source": [
    "## Inputs and Embeds"
   ]
  },
  {
   "cell_type": "code",
   "execution_count": 46,
   "metadata": {
    "collapsed": true
   },
   "outputs": [],
   "source": [
    "# placeholders\n",
    "input_sequence = Input((story_maxlen,))\n",
    "question = Input((query_maxlen,))\n",
    "\n",
    "# encoders\n",
    "# embed the input sequence into a sequence of vectors\n",
    "input_encoder_m = Sequential()\n",
    "input_encoder_m.add(Embedding(input_dim=vocab_size,\n",
    "                              output_dim=64))\n",
    "input_encoder_m.add(Dropout(0.3))\n",
    "# output: (samples, story_maxlen, embedding_dim)\n",
    "\n",
    "# embed the input into a sequence of vectors of size query_maxlen\n",
    "input_encoder_c = Sequential()\n",
    "input_encoder_c.add(Embedding(input_dim=vocab_size,\n",
    "                              output_dim=query_maxlen))\n",
    "input_encoder_c.add(Dropout(0.3))\n",
    "# output: (samples, story_maxlen, query_maxlen)\n",
    "\n",
    "# embed the question into a sequence of vectors\n",
    "question_encoder = Sequential()\n",
    "question_encoder.add(Embedding(input_dim=vocab_size,\n",
    "                               output_dim=64,\n",
    "                               input_length=query_maxlen))\n",
    "question_encoder.add(Dropout(0.3))\n",
    "# output: (samples, query_maxlen, embedding_dim)\n",
    "\n",
    "# encode input sequence and questions (which are indices)\n",
    "# to sequences of dense vectors\n",
    "input_encoded_m = input_encoder_m(input_sequence)\n",
    "input_encoded_c = input_encoder_c(input_sequence)\n",
    "question_encoded = question_encoder(question)"
   ]
  },
  {
   "cell_type": "code",
   "execution_count": 47,
   "metadata": {},
   "outputs": [],
   "source": [
    "# compute a 'match' between the first input vector sequence\n",
    "# and the question vector sequence\n",
    "# shape: `(samples, story_maxlen, query_maxlen)`\n",
    "match = dot([input_encoded_m, question_encoded], axes=(2, 2))\n",
    "match = Activation('softmax')(match)\n",
    "\n",
    "# add the match matrix with the second input vector sequence\n",
    "response = add([match, input_encoded_c])  # (samples, story_maxlen, query_maxlen)\n",
    "response = Permute((2, 1))(response)  # (samples, query_maxlen, story_maxlen)\n",
    "\n",
    "# concatenate the match matrix with the question vector sequence\n",
    "answer = concatenate([response, question_encoded])\n",
    "\n",
    "# the original paper uses a matrix multiplication for this reduction step.\n",
    "# we choose to use a RNN instead.\n",
    "answer = LSTM(32)(answer)  # (samples, 32)\n",
    "\n",
    "# one regularization layer -- more would probably be needed.\n",
    "answer = Dropout(0.3)(answer)\n",
    "answer = Dense(vocab_size)(answer)  # (samples, vocab_size)\n",
    "# we output a probability distribution over the vocabulary\n",
    "answer = Activation('softmax')(answer)"
   ]
  },
  {
   "cell_type": "code",
   "execution_count": 53,
   "metadata": {},
   "outputs": [
    {
     "data": {
      "text/plain": [
       "<tf.Tensor 'sequential_1/dropout_1/cond/Merge:0' shape=(?, 68, 64) dtype=float32>"
      ]
     },
     "execution_count": 53,
     "metadata": {},
     "output_type": "execute_result"
    }
   ],
   "source": [
    "input_encoded_m"
   ]
  },
  {
   "cell_type": "code",
   "execution_count": 54,
   "metadata": {},
   "outputs": [
    {
     "data": {
      "text/plain": [
       "<tf.Tensor 'sequential_2/dropout_2/cond/Merge:0' shape=(?, 68, 4) dtype=float32>"
      ]
     },
     "execution_count": 54,
     "metadata": {},
     "output_type": "execute_result"
    }
   ],
   "source": [
    "input_encoded_c"
   ]
  },
  {
   "cell_type": "code",
   "execution_count": 55,
   "metadata": {},
   "outputs": [
    {
     "data": {
      "text/plain": [
       "<tf.Tensor 'sequential_3/dropout_3/cond/Merge:0' shape=(?, 4, 64) dtype=float32>"
      ]
     },
     "execution_count": 55,
     "metadata": {},
     "output_type": "execute_result"
    }
   ],
   "source": [
    "question_encoded"
   ]
  },
  {
   "cell_type": "code",
   "execution_count": 56,
   "metadata": {},
   "outputs": [
    {
     "data": {
      "text/plain": [
       "<tf.Tensor 'activation_1/truediv:0' shape=(?, 68, 4) dtype=float32>"
      ]
     },
     "execution_count": 56,
     "metadata": {},
     "output_type": "execute_result"
    }
   ],
   "source": [
    "match"
   ]
  },
  {
   "cell_type": "code",
   "execution_count": 58,
   "metadata": {},
   "outputs": [
    {
     "data": {
      "text/plain": [
       "<tf.Tensor 'activation_2/Softmax:0' shape=(?, 22) dtype=float32>"
      ]
     },
     "execution_count": 58,
     "metadata": {},
     "output_type": "execute_result"
    }
   ],
   "source": [
    "answer"
   ]
  },
  {
   "cell_type": "markdown",
   "metadata": {},
   "source": [
    "# Final Model"
   ]
  },
  {
   "cell_type": "code",
   "execution_count": 48,
   "metadata": {
    "collapsed": true
   },
   "outputs": [],
   "source": [
    "# build the final model\n",
    "model = Model([input_sequence, question], answer)\n",
    "model.compile(optimizer='rmsprop', loss='categorical_crossentropy',\n",
    "              metrics=['accuracy'])"
   ]
  },
  {
   "cell_type": "code",
   "execution_count": 51,
   "metadata": {},
   "outputs": [
    {
     "name": "stdout",
     "output_type": "stream",
     "text": [
      "____________________________________________________________________________________________________\n",
      "Layer (type)                     Output Shape          Param #     Connected to                     \n",
      "====================================================================================================\n",
      "input_1 (InputLayer)             (None, 68)            0                                            \n",
      "____________________________________________________________________________________________________\n",
      "input_2 (InputLayer)             (None, 4)             0                                            \n",
      "____________________________________________________________________________________________________\n",
      "sequential_1 (Sequential)        multiple              1408                                         \n",
      "____________________________________________________________________________________________________\n",
      "sequential_3 (Sequential)        (None, 4, 64)         1408                                         \n",
      "____________________________________________________________________________________________________\n",
      "dot_1 (Dot)                      (None, 68, 4)         0                                            \n",
      "____________________________________________________________________________________________________\n",
      "activation_1 (Activation)        (None, 68, 4)         0                                            \n",
      "____________________________________________________________________________________________________\n",
      "sequential_2 (Sequential)        multiple              88                                           \n",
      "____________________________________________________________________________________________________\n",
      "add_1 (Add)                      (None, 68, 4)         0                                            \n",
      "____________________________________________________________________________________________________\n",
      "permute_1 (Permute)              (None, 4, 68)         0                                            \n",
      "____________________________________________________________________________________________________\n",
      "concatenate_1 (Concatenate)      (None, 4, 132)        0                                            \n",
      "____________________________________________________________________________________________________\n",
      "lstm_1 (LSTM)                    (None, 32)            21120                                        \n",
      "____________________________________________________________________________________________________\n",
      "dropout_4 (Dropout)              (None, 32)            0                                            \n",
      "____________________________________________________________________________________________________\n",
      "dense_1 (Dense)                  (None, 22)            726                                          \n",
      "____________________________________________________________________________________________________\n",
      "activation_2 (Activation)        (None, 22)            0                                            \n",
      "====================================================================================================\n",
      "Total params: 24,750.0\n",
      "Trainable params: 24,750.0\n",
      "Non-trainable params: 0.0\n",
      "____________________________________________________________________________________________________\n"
     ]
    }
   ],
   "source": [
    "model.summary()"
   ]
  },
  {
   "cell_type": "markdown",
   "metadata": {},
   "source": [
    "# Train"
   ]
  },
  {
   "cell_type": "code",
   "execution_count": 52,
   "metadata": {},
   "outputs": [
    {
     "name": "stdout",
     "output_type": "stream",
     "text": [
      "Train on 10000 samples, validate on 1000 samples\n",
      "Epoch 1/120\n",
      "10000/10000 [==============================] - 3s - loss: 1.9550 - acc: 0.1687 - val_loss: 1.8048 - val_acc: 0.1490\n",
      "Epoch 2/120\n",
      "10000/10000 [==============================] - 1s - loss: 1.7785 - acc: 0.2027 - val_loss: 1.6676 - val_acc: 0.3110\n",
      "Epoch 3/120\n",
      "10000/10000 [==============================] - 1s - loss: 1.6100 - acc: 0.3403 - val_loss: 1.5545 - val_acc: 0.3980\n",
      "Epoch 4/120\n",
      "10000/10000 [==============================] - 1s - loss: 1.5271 - acc: 0.3884 - val_loss: 1.5037 - val_acc: 0.4090\n",
      "Epoch 5/120\n",
      "10000/10000 [==============================] - 2s - loss: 1.5036 - acc: 0.3982 - val_loss: 1.4642 - val_acc: 0.4250\n",
      "Epoch 6/120\n",
      "10000/10000 [==============================] - 1s - loss: 1.4813 - acc: 0.4063 - val_loss: 1.4788 - val_acc: 0.4170\n",
      "Epoch 7/120\n",
      "10000/10000 [==============================] - 1s - loss: 1.4505 - acc: 0.4343 - val_loss: 1.3899 - val_acc: 0.4820\n",
      "Epoch 8/120\n",
      "10000/10000 [==============================] - 1s - loss: 1.4083 - acc: 0.4505 - val_loss: 1.3526 - val_acc: 0.4890\n",
      "Epoch 9/120\n",
      "10000/10000 [==============================] - 2s - loss: 1.3894 - acc: 0.4593 - val_loss: 1.3344 - val_acc: 0.4880\n",
      "Epoch 10/120\n",
      "10000/10000 [==============================] - 2s - loss: 1.3652 - acc: 0.4713 - val_loss: 1.3271 - val_acc: 0.4770\n",
      "Epoch 11/120\n",
      "10000/10000 [==============================] - 1s - loss: 1.3535 - acc: 0.4802 - val_loss: 1.2918 - val_acc: 0.4910\n",
      "Epoch 12/120\n",
      "10000/10000 [==============================] - 1s - loss: 1.3268 - acc: 0.4915 - val_loss: 1.2825 - val_acc: 0.5080\n",
      "Epoch 13/120\n",
      "10000/10000 [==============================] - 1s - loss: 1.3039 - acc: 0.5001 - val_loss: 1.2815 - val_acc: 0.5040\n",
      "Epoch 14/120\n",
      "10000/10000 [==============================] - 1s - loss: 1.2771 - acc: 0.5068 - val_loss: 1.2228 - val_acc: 0.5180\n",
      "Epoch 15/120\n",
      "10000/10000 [==============================] - 1s - loss: 1.2627 - acc: 0.5107 - val_loss: 1.2018 - val_acc: 0.5170\n",
      "Epoch 16/120\n",
      "10000/10000 [==============================] - 1s - loss: 1.2570 - acc: 0.5052 - val_loss: 1.2003 - val_acc: 0.5290\n",
      "Epoch 17/120\n",
      "10000/10000 [==============================] - 1s - loss: 1.2373 - acc: 0.5135 - val_loss: 1.1957 - val_acc: 0.5210\n",
      "Epoch 18/120\n",
      "10000/10000 [==============================] - 1s - loss: 1.2266 - acc: 0.5139 - val_loss: 1.1879 - val_acc: 0.5240\n",
      "Epoch 19/120\n",
      "10000/10000 [==============================] - 1s - loss: 1.2222 - acc: 0.5120 - val_loss: 1.1846 - val_acc: 0.5130\n",
      "Epoch 20/120\n",
      "10000/10000 [==============================] - 1s - loss: 1.2128 - acc: 0.5189 - val_loss: 1.2152 - val_acc: 0.5190\n",
      "Epoch 21/120\n",
      "10000/10000 [==============================] - 1s - loss: 1.1997 - acc: 0.5170 - val_loss: 1.1827 - val_acc: 0.5200\n",
      "Epoch 22/120\n",
      "10000/10000 [==============================] - 2s - loss: 1.2022 - acc: 0.5221 - val_loss: 1.1741 - val_acc: 0.5250\n",
      "Epoch 23/120\n",
      "10000/10000 [==============================] - 1s - loss: 1.1899 - acc: 0.5220 - val_loss: 1.1769 - val_acc: 0.5250\n",
      "Epoch 24/120\n",
      "10000/10000 [==============================] - 1s - loss: 1.1843 - acc: 0.5168 - val_loss: 1.1835 - val_acc: 0.5080\n",
      "Epoch 25/120\n",
      "10000/10000 [==============================] - 1s - loss: 1.1804 - acc: 0.5182 - val_loss: 1.1702 - val_acc: 0.5130\n",
      "Epoch 26/120\n",
      "10000/10000 [==============================] - 1s - loss: 1.1765 - acc: 0.5207 - val_loss: 1.1853 - val_acc: 0.5110\n",
      "Epoch 27/120\n",
      "10000/10000 [==============================] - 1s - loss: 1.1749 - acc: 0.5224 - val_loss: 1.1628 - val_acc: 0.5080\n",
      "Epoch 28/120\n",
      "10000/10000 [==============================] - 1s - loss: 1.1571 - acc: 0.5249 - val_loss: 1.1785 - val_acc: 0.5140\n",
      "Epoch 29/120\n",
      "10000/10000 [==============================] - 1s - loss: 1.1563 - acc: 0.5300 - val_loss: 1.1742 - val_acc: 0.5130\n",
      "Epoch 30/120\n",
      "10000/10000 [==============================] - 1s - loss: 1.1620 - acc: 0.5227 - val_loss: 1.1630 - val_acc: 0.5110\n",
      "Epoch 31/120\n",
      "10000/10000 [==============================] - 1s - loss: 1.1576 - acc: 0.5260 - val_loss: 1.1809 - val_acc: 0.5020\n",
      "Epoch 32/120\n",
      "10000/10000 [==============================] - 1s - loss: 1.1436 - acc: 0.5295 - val_loss: 1.1786 - val_acc: 0.5090\n",
      "Epoch 33/120\n",
      "10000/10000 [==============================] - 1s - loss: 1.1429 - acc: 0.5275 - val_loss: 1.1645 - val_acc: 0.5050\n",
      "Epoch 34/120\n",
      "10000/10000 [==============================] - 1s - loss: 1.1351 - acc: 0.5368 - val_loss: 1.1697 - val_acc: 0.5000\n",
      "Epoch 35/120\n",
      "10000/10000 [==============================] - 1s - loss: 1.1330 - acc: 0.5307 - val_loss: 1.1599 - val_acc: 0.5120\n",
      "Epoch 36/120\n",
      "10000/10000 [==============================] - 1s - loss: 1.1303 - acc: 0.5256 - val_loss: 1.1920 - val_acc: 0.5070\n",
      "Epoch 37/120\n",
      "10000/10000 [==============================] - 1s - loss: 1.1275 - acc: 0.5326 - val_loss: 1.1829 - val_acc: 0.5010\n",
      "Epoch 38/120\n",
      "10000/10000 [==============================] - 1s - loss: 1.1208 - acc: 0.5359 - val_loss: 1.1637 - val_acc: 0.5030\n",
      "Epoch 39/120\n",
      "10000/10000 [==============================] - 1s - loss: 1.1110 - acc: 0.5370 - val_loss: 1.1612 - val_acc: 0.5080\n",
      "Epoch 40/120\n",
      "10000/10000 [==============================] - 1s - loss: 1.1026 - acc: 0.5448 - val_loss: 1.1546 - val_acc: 0.5110\n",
      "Epoch 41/120\n",
      "10000/10000 [==============================] - 1s - loss: 1.1003 - acc: 0.5468 - val_loss: 1.1465 - val_acc: 0.5210\n",
      "Epoch 42/120\n",
      "10000/10000 [==============================] - 1s - loss: 1.0923 - acc: 0.5530 - val_loss: 1.1544 - val_acc: 0.5270\n",
      "Epoch 43/120\n",
      "10000/10000 [==============================] - 1s - loss: 1.0728 - acc: 0.5674 - val_loss: 1.1153 - val_acc: 0.5640\n",
      "Epoch 44/120\n",
      "10000/10000 [==============================] - 1s - loss: 1.0303 - acc: 0.6033 - val_loss: 1.0498 - val_acc: 0.5980\n",
      "Epoch 45/120\n",
      "10000/10000 [==============================] - 1s - loss: 0.9689 - acc: 0.6317 - val_loss: 0.9826 - val_acc: 0.6460\n",
      "Epoch 46/120\n",
      "10000/10000 [==============================] - 1s - loss: 0.8638 - acc: 0.6877 - val_loss: 0.8344 - val_acc: 0.7140\n",
      "Epoch 47/120\n",
      "10000/10000 [==============================] - 1s - loss: 0.7670 - acc: 0.7314 - val_loss: 0.7680 - val_acc: 0.7380\n",
      "Epoch 48/120\n",
      "10000/10000 [==============================] - 1s - loss: 0.6939 - acc: 0.7552 - val_loss: 0.7085 - val_acc: 0.7480\n",
      "Epoch 49/120\n",
      "10000/10000 [==============================] - 1s - loss: 0.6520 - acc: 0.7671 - val_loss: 0.6582 - val_acc: 0.7500\n",
      "Epoch 50/120\n",
      "10000/10000 [==============================] - 1s - loss: 0.6129 - acc: 0.7788 - val_loss: 0.6442 - val_acc: 0.7580\n",
      "Epoch 51/120\n",
      "10000/10000 [==============================] - 1s - loss: 0.5940 - acc: 0.7801 - val_loss: 0.6225 - val_acc: 0.7700\n",
      "Epoch 52/120\n",
      "10000/10000 [==============================] - 1s - loss: 0.5672 - acc: 0.7919 - val_loss: 0.6029 - val_acc: 0.7700\n",
      "Epoch 53/120\n",
      "10000/10000 [==============================] - 1s - loss: 0.5331 - acc: 0.8068 - val_loss: 0.5605 - val_acc: 0.7860\n",
      "Epoch 54/120\n",
      "10000/10000 [==============================] - 1s - loss: 0.5027 - acc: 0.8150 - val_loss: 0.5130 - val_acc: 0.8050\n",
      "Epoch 55/120\n",
      "10000/10000 [==============================] - 1s - loss: 0.4671 - acc: 0.8263 - val_loss: 0.4975 - val_acc: 0.8100\n",
      "Epoch 56/120\n",
      "10000/10000 [==============================] - 1s - loss: 0.4329 - acc: 0.8416 - val_loss: 0.4372 - val_acc: 0.8410\n",
      "Epoch 57/120\n",
      "10000/10000 [==============================] - 1s - loss: 0.4084 - acc: 0.8509 - val_loss: 0.4308 - val_acc: 0.8510\n",
      "Epoch 58/120\n",
      "10000/10000 [==============================] - 1s - loss: 0.3983 - acc: 0.8529 - val_loss: 0.4197 - val_acc: 0.8550\n",
      "Epoch 59/120\n",
      "10000/10000 [==============================] - 1s - loss: 0.3753 - acc: 0.8624 - val_loss: 0.4014 - val_acc: 0.8550\n",
      "Epoch 60/120\n",
      "10000/10000 [==============================] - 1s - loss: 0.3599 - acc: 0.8672 - val_loss: 0.3893 - val_acc: 0.8610\n",
      "Epoch 61/120\n",
      "10000/10000 [==============================] - 2s - loss: 0.3481 - acc: 0.8704 - val_loss: 0.3774 - val_acc: 0.8690\n",
      "Epoch 62/120\n",
      "10000/10000 [==============================] - 1s - loss: 0.3318 - acc: 0.8784 - val_loss: 0.3614 - val_acc: 0.8570\n",
      "Epoch 63/120\n",
      "10000/10000 [==============================] - 1s - loss: 0.3275 - acc: 0.8796 - val_loss: 0.3609 - val_acc: 0.8700\n",
      "Epoch 64/120\n"
     ]
    },
    {
     "name": "stdout",
     "output_type": "stream",
     "text": [
      "10000/10000 [==============================] - ETA: 0s - loss: 0.3143 - acc: 0.882 - 1s - loss: 0.3137 - acc: 0.8826 - val_loss: 0.3790 - val_acc: 0.8570\n",
      "Epoch 65/120\n",
      "10000/10000 [==============================] - 1s - loss: 0.3013 - acc: 0.8870 - val_loss: 0.3453 - val_acc: 0.8650\n",
      "Epoch 66/120\n",
      "10000/10000 [==============================] - 1s - loss: 0.2982 - acc: 0.8914 - val_loss: 0.3527 - val_acc: 0.8670\n",
      "Epoch 67/120\n",
      "10000/10000 [==============================] - 1s - loss: 0.2883 - acc: 0.8920 - val_loss: 0.3264 - val_acc: 0.8840\n",
      "Epoch 68/120\n",
      "10000/10000 [==============================] - 1s - loss: 0.2815 - acc: 0.8947 - val_loss: 0.3305 - val_acc: 0.8810\n",
      "Epoch 69/120\n",
      "10000/10000 [==============================] - 1s - loss: 0.2692 - acc: 0.9016 - val_loss: 0.3160 - val_acc: 0.8900\n",
      "Epoch 70/120\n",
      "10000/10000 [==============================] - 1s - loss: 0.2610 - acc: 0.9036 - val_loss: 0.3185 - val_acc: 0.8870\n",
      "Epoch 71/120\n",
      "10000/10000 [==============================] - 1s - loss: 0.2570 - acc: 0.9044 - val_loss: 0.3192 - val_acc: 0.8880\n",
      "Epoch 72/120\n",
      "10000/10000 [==============================] - 1s - loss: 0.2436 - acc: 0.9094 - val_loss: 0.2935 - val_acc: 0.9010\n",
      "Epoch 73/120\n",
      "10000/10000 [==============================] - 1s - loss: 0.2387 - acc: 0.9126 - val_loss: 0.2917 - val_acc: 0.8950\n",
      "Epoch 74/120\n",
      "10000/10000 [==============================] - 1s - loss: 0.2272 - acc: 0.9163 - val_loss: 0.2683 - val_acc: 0.9070\n",
      "Epoch 75/120\n",
      "10000/10000 [==============================] - 1s - loss: 0.2176 - acc: 0.9241 - val_loss: 0.2667 - val_acc: 0.8980\n",
      "Epoch 76/120\n",
      "10000/10000 [==============================] - 1s - loss: 0.2057 - acc: 0.9241 - val_loss: 0.2534 - val_acc: 0.9020\n",
      "Epoch 77/120\n",
      "10000/10000 [==============================] - 1s - loss: 0.2083 - acc: 0.9259 - val_loss: 0.2634 - val_acc: 0.9020\n",
      "Epoch 78/120\n",
      "10000/10000 [==============================] - 1s - loss: 0.2001 - acc: 0.9307 - val_loss: 0.2502 - val_acc: 0.9060\n",
      "Epoch 79/120\n",
      "10000/10000 [==============================] - 1s - loss: 0.1989 - acc: 0.9268 - val_loss: 0.2236 - val_acc: 0.9230\n",
      "Epoch 80/120\n",
      "10000/10000 [==============================] - 1s - loss: 0.1842 - acc: 0.9341 - val_loss: 0.2366 - val_acc: 0.9200\n",
      "Epoch 81/120\n",
      "10000/10000 [==============================] - 1s - loss: 0.1751 - acc: 0.9377 - val_loss: 0.2310 - val_acc: 0.9200\n",
      "Epoch 82/120\n",
      "10000/10000 [==============================] - 1s - loss: 0.1728 - acc: 0.9386 - val_loss: 0.2338 - val_acc: 0.9210\n",
      "Epoch 83/120\n",
      "10000/10000 [==============================] - 1s - loss: 0.1662 - acc: 0.9404 - val_loss: 0.2252 - val_acc: 0.9110\n",
      "Epoch 84/120\n",
      "10000/10000 [==============================] - 1s - loss: 0.1601 - acc: 0.9398 - val_loss: 0.2191 - val_acc: 0.9240\n",
      "Epoch 85/120\n",
      "10000/10000 [==============================] - 1s - loss: 0.1530 - acc: 0.9473 - val_loss: 0.1876 - val_acc: 0.9380\n",
      "Epoch 86/120\n",
      "10000/10000 [==============================] - 1s - loss: 0.1436 - acc: 0.9490 - val_loss: 0.1891 - val_acc: 0.9350\n",
      "Epoch 87/120\n",
      "10000/10000 [==============================] - 1s - loss: 0.1448 - acc: 0.9506 - val_loss: 0.2284 - val_acc: 0.9310\n",
      "Epoch 88/120\n",
      "10000/10000 [==============================] - 1s - loss: 0.1373 - acc: 0.9494 - val_loss: 0.1976 - val_acc: 0.9370\n",
      "Epoch 89/120\n",
      "10000/10000 [==============================] - ETA: 0s - loss: 0.1404 - acc: 0.952 - 1s - loss: 0.1411 - acc: 0.9520 - val_loss: 0.2200 - val_acc: 0.9230\n",
      "Epoch 90/120\n",
      "10000/10000 [==============================] - 1s - loss: 0.1315 - acc: 0.9524 - val_loss: 0.1833 - val_acc: 0.9420\n",
      "Epoch 91/120\n",
      "10000/10000 [==============================] - 1s - loss: 0.1281 - acc: 0.9555 - val_loss: 0.2038 - val_acc: 0.9380\n",
      "Epoch 92/120\n",
      "10000/10000 [==============================] - 1s - loss: 0.1188 - acc: 0.9579 - val_loss: 0.1647 - val_acc: 0.9500\n",
      "Epoch 93/120\n",
      "10000/10000 [==============================] - 1s - loss: 0.1235 - acc: 0.9564 - val_loss: 0.1735 - val_acc: 0.9440\n",
      "Epoch 94/120\n",
      "10000/10000 [==============================] - 1s - loss: 0.1206 - acc: 0.9579 - val_loss: 0.1787 - val_acc: 0.9460\n",
      "Epoch 95/120\n",
      "10000/10000 [==============================] - 1s - loss: 0.1083 - acc: 0.9623 - val_loss: 0.1733 - val_acc: 0.9440\n",
      "Epoch 96/120\n",
      "10000/10000 [==============================] - 1s - loss: 0.1103 - acc: 0.9627 - val_loss: 0.1539 - val_acc: 0.9570\n",
      "Epoch 97/120\n",
      "10000/10000 [==============================] - 1s - loss: 0.1089 - acc: 0.9608 - val_loss: 0.1858 - val_acc: 0.9390\n",
      "Epoch 98/120\n",
      "10000/10000 [==============================] - 2s - loss: 0.1054 - acc: 0.9651 - val_loss: 0.1676 - val_acc: 0.9460\n",
      "Epoch 99/120\n",
      "10000/10000 [==============================] - 1s - loss: 0.1020 - acc: 0.9644 - val_loss: 0.1580 - val_acc: 0.9510\n",
      "Epoch 100/120\n",
      "10000/10000 [==============================] - 1s - loss: 0.0957 - acc: 0.9656 - val_loss: 0.1600 - val_acc: 0.9510\n",
      "Epoch 101/120\n",
      "10000/10000 [==============================] - 1s - loss: 0.0931 - acc: 0.9687 - val_loss: 0.1721 - val_acc: 0.9530\n",
      "Epoch 102/120\n",
      "10000/10000 [==============================] - 1s - loss: 0.0916 - acc: 0.9683 - val_loss: 0.1742 - val_acc: 0.9500\n",
      "Epoch 103/120\n",
      "10000/10000 [==============================] - 1s - loss: 0.0911 - acc: 0.9689 - val_loss: 0.1644 - val_acc: 0.9470\n",
      "Epoch 104/120\n",
      "10000/10000 [==============================] - 1s - loss: 0.0921 - acc: 0.9678 - val_loss: 0.1640 - val_acc: 0.9510\n",
      "Epoch 105/120\n",
      "10000/10000 [==============================] - ETA: 0s - loss: 0.0899 - acc: 0.969 - 1s - loss: 0.0894 - acc: 0.9697 - val_loss: 0.1586 - val_acc: 0.9540\n",
      "Epoch 106/120\n",
      "10000/10000 [==============================] - 1s - loss: 0.0797 - acc: 0.9720 - val_loss: 0.1570 - val_acc: 0.9490\n",
      "Epoch 107/120\n",
      "10000/10000 [==============================] - 1s - loss: 0.0804 - acc: 0.9726 - val_loss: 0.1775 - val_acc: 0.9540\n",
      "Epoch 108/120\n",
      "10000/10000 [==============================] - 1s - loss: 0.0804 - acc: 0.9718 - val_loss: 0.1602 - val_acc: 0.9530\n",
      "Epoch 109/120\n",
      "10000/10000 [==============================] - 1s - loss: 0.0851 - acc: 0.9722 - val_loss: 0.1573 - val_acc: 0.9570\n",
      "Epoch 110/120\n",
      "10000/10000 [==============================] - 1s - loss: 0.0771 - acc: 0.9723 - val_loss: 0.1697 - val_acc: 0.9550\n",
      "Epoch 111/120\n",
      "10000/10000 [==============================] - 1s - loss: 0.0787 - acc: 0.9720 - val_loss: 0.1498 - val_acc: 0.9580\n",
      "Epoch 112/120\n",
      "10000/10000 [==============================] - 1s - loss: 0.0745 - acc: 0.9773 - val_loss: 0.1818 - val_acc: 0.9510\n",
      "Epoch 113/120\n",
      "10000/10000 [==============================] - 1s - loss: 0.0696 - acc: 0.9759 - val_loss: 0.1592 - val_acc: 0.9580\n",
      "Epoch 114/120\n",
      "10000/10000 [==============================] - 1s - loss: 0.0708 - acc: 0.9762 - val_loss: 0.1484 - val_acc: 0.9570\n",
      "Epoch 115/120\n",
      "10000/10000 [==============================] - 1s - loss: 0.0649 - acc: 0.9776 - val_loss: 0.1572 - val_acc: 0.9530\n",
      "Epoch 116/120\n",
      "10000/10000 [==============================] - 1s - loss: 0.0649 - acc: 0.9767 - val_loss: 0.1912 - val_acc: 0.9520\n",
      "Epoch 117/120\n",
      "10000/10000 [==============================] - 1s - loss: 0.0635 - acc: 0.9791 - val_loss: 0.1640 - val_acc: 0.9570\n",
      "Epoch 118/120\n",
      "10000/10000 [==============================] - 1s - loss: 0.0655 - acc: 0.9763 - val_loss: 0.2122 - val_acc: 0.9450\n",
      "Epoch 119/120\n",
      "10000/10000 [==============================] - 1s - loss: 0.0629 - acc: 0.9763 - val_loss: 0.1614 - val_acc: 0.9540\n",
      "Epoch 120/120\n",
      "10000/10000 [==============================] - 1s - loss: 0.0645 - acc: 0.9786 - val_loss: 0.2006 - val_acc: 0.9500\n"
     ]
    },
    {
     "data": {
      "text/plain": [
       "<keras.callbacks.History at 0x7fcc9c150898>"
      ]
     },
     "execution_count": 52,
     "metadata": {},
     "output_type": "execute_result"
    }
   ],
   "source": [
    "# train\n",
    "model.fit([inputs_train, queries_train], answers_train,\n",
    "          batch_size=32,\n",
    "          epochs=120,\n",
    "          validation_data=([inputs_test, queries_test], answers_test))"
   ]
  }
 ],
 "metadata": {
  "kernelspec": {
   "display_name": "Python 3",
   "language": "python",
   "name": "python3"
  },
  "language_info": {
   "codemirror_mode": {
    "name": "ipython",
    "version": 3
   },
   "file_extension": ".py",
   "mimetype": "text/x-python",
   "name": "python",
   "nbconvert_exporter": "python",
   "pygments_lexer": "ipython3",
   "version": "3.6.1"
  }
 },
 "nbformat": 4,
 "nbformat_minor": 2
}
