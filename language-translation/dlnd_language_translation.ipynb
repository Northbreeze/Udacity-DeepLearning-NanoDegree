{
 "cells": [
  {
   "cell_type": "markdown",
   "metadata": {
    "collapsed": true
   },
   "source": [
    "# Language Translation\n",
    "In this project, you’re going to take a peek into the realm of neural network machine translation.  You’ll be training a sequence to sequence model on a dataset of English and French sentences that can translate new sentences from English to French.\n",
    "## Get the Data\n",
    "Since translating the whole language of English to French will take lots of time to train, we have provided you with a small portion of the English corpus."
   ]
  },
  {
   "cell_type": "code",
   "execution_count": 1,
   "metadata": {
    "collapsed": true
   },
   "outputs": [],
   "source": [
    "\"\"\"\n",
    "DON'T MODIFY ANYTHING IN THIS CELL\n",
    "\"\"\"\n",
    "import helper\n",
    "import problem_unittests as tests\n",
    "\n",
    "source_path = 'data/small_vocab_en'\n",
    "target_path = 'data/small_vocab_fr'\n",
    "source_text = helper.load_data(source_path)\n",
    "target_text = helper.load_data(target_path)"
   ]
  },
  {
   "cell_type": "markdown",
   "metadata": {},
   "source": [
    "## Explore the Data\n",
    "Play around with view_sentence_range to view different parts of the data."
   ]
  },
  {
   "cell_type": "code",
   "execution_count": 2,
   "metadata": {},
   "outputs": [
    {
     "name": "stdout",
     "output_type": "stream",
     "text": [
      "Dataset Stats\n",
      "Roughly the number of unique words: 227\n",
      "Number of sentences: 137861\n",
      "Average number of words in a sentence: 13.225277634719028\n",
      "\n",
      "English sentences 200 to 220:\n",
      "paris is hot during spring , but it is usually snowy in june .\n",
      "the grape is your least favorite fruit , but the banana is his least favorite .\n",
      "china is never warm during summer , but it is usually quiet in november .\n",
      "she dislikes strawberries , pears , and limes .\n",
      "his least favorite animal is the mouse .\n",
      "he dislikes bananas , mangoes , and apples .\n",
      "the lemon is our favorite fruit , but the orange is my favorite .\n",
      "france is usually hot during spring , but it is never pleasant in september .\n",
      "china is chilly during march , and it is never relaxing in may .\n",
      "france is sometimes mild during november , and it is sometimes busy in spring .\n",
      "california is usually mild during fall , but it is never chilly in september .\n",
      "paris is never wonderful during september , and it is hot in july .\n",
      "we dislike peaches , limes , and oranges .\n",
      "the apple is your least liked fruit , but the strawberry is their least liked .\n",
      "the united states is sometimes wonderful during autumn , but it is usually wet in june .\n",
      "he went to the united states last spring .\n",
      "france is wet during fall , and it is never relaxing in june .\n",
      "i like oranges , grapes , and pears .\n",
      "he was driving the little yellow car .\n",
      "i dislike limes , apples , and peaches.\n",
      "\n",
      "French sentences 200 to 220:\n",
      "paris est chaud au printemps , mais il est généralement enneigée en juin .\n",
      "le raisin est votre fruit préféré moins , mais la banane est son moins préféré.\n",
      "chine est jamais chaud pendant l' été , mais il est généralement calme en novembre .\n",
      "elle n'aime les fraises , les poires et citrons verts .\n",
      "son moins animal préféré est la souris .\n",
      "il n'aime les bananes , les mangues et les pommes .\n",
      "le citron est notre fruit préféré , mais l'orange est mon préféré .\n",
      "la france est habituellement chaud au printemps , mais il est jamais agréable en septembre .\n",
      "chine est froid en mars , et il est jamais relaxant en mai .\n",
      "la france est parfois doux en novembre , et il est parfois occupé au printemps .\n",
      "californie est généralement doux à l'automne , mais il est jamais froid en septembre .\n",
      "paris est jamais merveilleux en septembre , et il est chaud en juillet .\n",
      "nous détestons les pêches , citrons verts et oranges .\n",
      "la pomme est votre fruit moins aimé , mais la fraise est leur moins aimé .\n",
      "les états-unis est parfois merveilleux au cours de l' automne , mais il est généralement humide en juin .\n",
      "il est allé aux états-unis au printemps dernier .\n",
      "la france est humide à l'automne , et il est jamais relaxant en juin .\n",
      "j'aime les oranges , les raisins et les poires .\n",
      "il conduisait la petite voiture jaune .\n",
      "je n'aime pas citrons verts , les pommes et les pêches .\n"
     ]
    }
   ],
   "source": [
    "view_sentence_range = (200, 220)\n",
    "\n",
    "\"\"\"\n",
    "DON'T MODIFY ANYTHING IN THIS CELL\n",
    "\"\"\"\n",
    "import numpy as np\n",
    "\n",
    "print('Dataset Stats')\n",
    "print('Roughly the number of unique words: {}'.format(len({word: None for word in source_text.split()})))\n",
    "\n",
    "sentences = source_text.split('\\n')\n",
    "word_counts = [len(sentence.split()) for sentence in sentences]\n",
    "print('Number of sentences: {}'.format(len(sentences)))\n",
    "print('Average number of words in a sentence: {}'.format(np.average(word_counts)))\n",
    "\n",
    "print()\n",
    "print('English sentences {} to {}:'.format(*view_sentence_range))\n",
    "print('\\n'.join(source_text.split('\\n')[view_sentence_range[0]:view_sentence_range[1]]))\n",
    "print()\n",
    "print('French sentences {} to {}:'.format(*view_sentence_range))\n",
    "print('\\n'.join(target_text.split('\\n')[view_sentence_range[0]:view_sentence_range[1]]))"
   ]
  },
  {
   "cell_type": "markdown",
   "metadata": {},
   "source": [
    "## Implement Preprocessing Function\n",
    "### Text to Word Ids\n",
    "As you did with other RNNs, you must turn the text into a number so the computer can understand it. In the function `text_to_ids()`, you'll turn `source_text` and `target_text` from words to ids.  However, you need to add the `<EOS>` word id at the end of `target_text`.  This will help the neural network predict when the sentence should end.\n",
    "\n",
    "You can get the `<EOS>` word id by doing:\n",
    "```python\n",
    "target_vocab_to_int['<EOS>']\n",
    "```\n",
    "You can get other word ids using `source_vocab_to_int` and `target_vocab_to_int`."
   ]
  },
  {
   "cell_type": "code",
   "execution_count": 3,
   "metadata": {},
   "outputs": [
    {
     "name": "stdout",
     "output_type": "stream",
     "text": [
      "Tests Passed\n"
     ]
    }
   ],
   "source": [
    "def text_to_ids(source_text, target_text, source_vocab_to_int, target_vocab_to_int):\n",
    "    \"\"\"\n",
    "    Convert source and target text to proper word ids\n",
    "    :param source_text: String that contains all the source text.\n",
    "    :param target_text: String that contains all the target text.\n",
    "    :param source_vocab_to_int: Dictionary to go from the source words to an id\n",
    "    :param target_vocab_to_int: Dictionary to go from the target words to an id\n",
    "    :return: A tuple of lists (source_id_text, target_id_text)\n",
    "    \"\"\"\n",
    "    # TODO: Implement Function\n",
    "    source_id_text = [\n",
    "        [source_vocab_to_int[word] for word in sentence.split()] for sentence in source_text.split('\\n')]\n",
    "    target_id_text = [\n",
    "        [target_vocab_to_int[word] for word in sentence.split()] + [target_vocab_to_int['<EOS>']]\n",
    "        for sentence in target_text.split('\\n')]\n",
    "\n",
    "    return source_id_text, target_id_text\n",
    "\n",
    "\"\"\"\n",
    "DON'T MODIFY ANYTHING IN THIS CELL THAT IS BELOW THIS LINE\n",
    "\"\"\"\n",
    "tests.test_text_to_ids(text_to_ids)"
   ]
  },
  {
   "cell_type": "markdown",
   "metadata": {},
   "source": [
    "### Preprocess all the data and save it\n",
    "Running the code cell below will preprocess all the data and save it to file."
   ]
  },
  {
   "cell_type": "code",
   "execution_count": 4,
   "metadata": {
    "collapsed": true
   },
   "outputs": [],
   "source": [
    "\"\"\"\n",
    "DON'T MODIFY ANYTHING IN THIS CELL\n",
    "\"\"\"\n",
    "helper.preprocess_and_save_data(source_path, target_path, text_to_ids)"
   ]
  },
  {
   "cell_type": "markdown",
   "metadata": {},
   "source": [
    "# Check Point\n",
    "This is your first checkpoint. If you ever decide to come back to this notebook or have to restart the notebook, you can start from here. The preprocessed data has been saved to disk."
   ]
  },
  {
   "cell_type": "code",
   "execution_count": 5,
   "metadata": {
    "collapsed": true
   },
   "outputs": [],
   "source": [
    "\"\"\"\n",
    "DON'T MODIFY ANYTHING IN THIS CELL\n",
    "\"\"\"\n",
    "import numpy as np\n",
    "import helper\n",
    "\n",
    "(source_int_text, target_int_text), (source_vocab_to_int, target_vocab_to_int), _ = helper.load_preprocess()"
   ]
  },
  {
   "cell_type": "markdown",
   "metadata": {},
   "source": [
    "### Check the Version of TensorFlow and Access to GPU\n",
    "This will check to make sure you have the correct version of TensorFlow and access to a GPU"
   ]
  },
  {
   "cell_type": "code",
   "execution_count": 6,
   "metadata": {},
   "outputs": [
    {
     "name": "stdout",
     "output_type": "stream",
     "text": [
      "TensorFlow Version: 1.1.0\n",
      "Default GPU Device: /gpu:0\n"
     ]
    }
   ],
   "source": [
    "\"\"\"\n",
    "DON'T MODIFY ANYTHING IN THIS CELL\n",
    "\"\"\"\n",
    "from distutils.version import LooseVersion\n",
    "import warnings\n",
    "import tensorflow as tf\n",
    "from tensorflow.python.layers.core import Dense\n",
    "\n",
    "# Check TensorFlow Version\n",
    "assert LooseVersion(tf.__version__) >= LooseVersion('1.1'), 'Please use TensorFlow version 1.1 or newer'\n",
    "print('TensorFlow Version: {}'.format(tf.__version__))\n",
    "\n",
    "# Check for a GPU\n",
    "if not tf.test.gpu_device_name():\n",
    "    warnings.warn('No GPU found. Please use a GPU to train your neural network.')\n",
    "else:\n",
    "    print('Default GPU Device: {}'.format(tf.test.gpu_device_name()))"
   ]
  },
  {
   "cell_type": "markdown",
   "metadata": {},
   "source": [
    "## Build the Neural Network\n",
    "You'll build the components necessary to build a Sequence-to-Sequence model by implementing the following functions below:\n",
    "- `model_inputs`\n",
    "- `process_decoder_input`\n",
    "- `encoding_layer`\n",
    "- `decoding_layer_train`\n",
    "- `decoding_layer_infer`\n",
    "- `decoding_layer`\n",
    "- `seq2seq_model`\n",
    "\n",
    "### Input\n",
    "Implement the `model_inputs()` function to create TF Placeholders for the Neural Network. It should create the following placeholders:\n",
    "\n",
    "- Input text placeholder named \"input\" using the TF Placeholder name parameter with rank 2.\n",
    "- Targets placeholder with rank 2.\n",
    "- Learning rate placeholder with rank 0.\n",
    "- Keep probability placeholder named \"keep_prob\" using the TF Placeholder name parameter with rank 0.\n",
    "- Target sequence length placeholder named \"target_sequence_length\" with rank 1\n",
    "- Max target sequence length tensor named \"max_target_len\" getting its value from applying tf.reduce_max on the target_sequence_length placeholder. Rank 0.\n",
    "- Source sequence length placeholder named \"source_sequence_length\" with rank 1\n",
    "\n",
    "Return the placeholders in the following the tuple (input, targets, learning rate, keep probability, target sequence length, max target sequence length, source sequence length)"
   ]
  },
  {
   "cell_type": "code",
   "execution_count": 7,
   "metadata": {},
   "outputs": [
    {
     "name": "stdout",
     "output_type": "stream",
     "text": [
      "Tests Passed\n"
     ]
    }
   ],
   "source": [
    "def model_inputs():\n",
    "    \"\"\"\n",
    "    Create TF Placeholders for input, targets, learning rate, and lengths of source and target sequences.\n",
    "    :return: Tuple (input, targets, learning rate, keep probability, target sequence length,\n",
    "    max target sequence length, source sequence length)\n",
    "    \"\"\"\n",
    "    # TODO: Implement Function\n",
    "    # input parameters\n",
    "    input = tf.placeholder(tf.int32, [None, None], name=\"input\")\n",
    "    targets = tf.placeholder(tf.int32, [None, None], name=\"targets\")\n",
    "    # training parameters\n",
    "    learning_rate = tf.placeholder(tf.float32, name=\"learning_rate\")\n",
    "    keep_prob = tf.placeholder(tf.float32, name=\"keep_prob\")\n",
    "    # sequence length parameters\n",
    "    target_sequence_length = tf.placeholder(tf.int32, [None], name=\"target_sequence_length\")\n",
    "    max_target_sequence_length = tf.reduce_max(target_sequence_length)\n",
    "    source_sequence_length = tf.placeholder(tf.int32, [None], name=\"source_sequence_length\")\n",
    "    \n",
    "    return (input, targets, learning_rate, keep_prob, target_sequence_length, \\\n",
    "            max_target_sequence_length, source_sequence_length)\n",
    "\n",
    "\n",
    "\"\"\"\n",
    "DON'T MODIFY ANYTHING IN THIS CELL THAT IS BELOW THIS LINE\n",
    "\"\"\"\n",
    "tests.test_model_inputs(model_inputs)"
   ]
  },
  {
   "cell_type": "markdown",
   "metadata": {},
   "source": [
    "### Process Decoder Input\n",
    "Implement `process_decoder_input` by removing the last word id from each batch in `target_data` and concat the GO ID to the begining of each batch."
   ]
  },
  {
   "cell_type": "code",
   "execution_count": 8,
   "metadata": {},
   "outputs": [
    {
     "name": "stdout",
     "output_type": "stream",
     "text": [
      "Tests Passed\n"
     ]
    }
   ],
   "source": [
    "def process_decoder_input(target_data, target_vocab_to_int, batch_size):\n",
    "    \"\"\"\n",
    "    Preprocess target data for encoding\n",
    "    :param target_data: Target Placehoder\n",
    "    :param target_vocab_to_int: Dictionary to go from the target words to an id\n",
    "    :param batch_size: Batch Size\n",
    "    :return: Preprocessed target data\n",
    "    \"\"\"\n",
    "    # TODO: Implement Function\n",
    "#     go_scalar = target_vocab_to_int[\"<GO>\"]\n",
    "#     go_scalar_array = np.array([go_scalar]*batch_size)[:,None]\n",
    "#     rst = tf.concat([go_scalar_array, target_data[:,:-1]], axis=1)\n",
    "    x = tf.strided_slice(target_data, [0,0], [batch_size, -1], [1,1])\n",
    "    y = tf.concat([tf.fill([batch_size, 1], target_vocab_to_int['<GO>']), x], 1)\n",
    "    return y\n",
    "\n",
    "\"\"\"\n",
    "DON'T MODIFY ANYTHING IN THIS CELL THAT IS BELOW THIS LINE\n",
    "\"\"\"\n",
    "tests.test_process_encoding_input(process_decoder_input)"
   ]
  },
  {
   "cell_type": "markdown",
   "metadata": {},
   "source": [
    "### Encoding\n",
    "Implement `encoding_layer()` to create a Encoder RNN layer:\n",
    " * Embed the encoder input using [`tf.contrib.layers.embed_sequence`](https://www.tensorflow.org/api_docs/python/tf/contrib/layers/embed_sequence)\n",
    " * Construct a [stacked](https://github.com/tensorflow/tensorflow/blob/6947f65a374ebf29e74bb71e36fd82760056d82c/tensorflow/docs_src/tutorials/recurrent.md#stacking-multiple-lstms) [`tf.contrib.rnn.LSTMCell`](https://www.tensorflow.org/api_docs/python/tf/contrib/rnn/LSTMCell) wrapped in a [`tf.contrib.rnn.DropoutWrapper`](https://www.tensorflow.org/api_docs/python/tf/contrib/rnn/DropoutWrapper)\n",
    " * Pass cell and embedded input to [`tf.nn.dynamic_rnn()`](https://www.tensorflow.org/api_docs/python/tf/nn/dynamic_rnn)"
   ]
  },
  {
   "cell_type": "code",
   "execution_count": 9,
   "metadata": {
    "scrolled": false
   },
   "outputs": [
    {
     "name": "stdout",
     "output_type": "stream",
     "text": [
      "Tests Passed\n"
     ]
    }
   ],
   "source": [
    "from imp import reload\n",
    "reload(tests)\n",
    "\n",
    "def encoding_layer(rnn_inputs, rnn_size, num_layers, keep_prob, \n",
    "                   source_sequence_length, source_vocab_size, \n",
    "                   encoding_embedding_size):\n",
    "    \"\"\"\n",
    "    Create encoding layer\n",
    "    :param rnn_inputs: Inputs for the RNN\n",
    "    :param rnn_size: RNN Size\n",
    "    :param num_layers: Number of layers\n",
    "    :param keep_prob: Dropout keep probability\n",
    "    :param source_sequence_length: a list of the lengths of each sequence in the batch\n",
    "    :param source_vocab_size: vocabulary size of source data\n",
    "    :param encoding_embedding_size: embedding size of source data\n",
    "    :return: tuple (RNN output, RNN state)\n",
    "    \"\"\"\n",
    "    # TODO: Implement Function\n",
    "    # embedding input\n",
    "    enc_inputs = tf.contrib.layers.embed_sequence(rnn_inputs, source_vocab_size, encoding_embedding_size)\n",
    "    # construcll rnn cell\n",
    "    cell = tf.contrib.rnn.MultiRNNCell([\n",
    "        tf.contrib.rnn.LSTMCell(rnn_size) \\\n",
    "        for _ in range(num_layers) ])\n",
    "    # rnn forward\n",
    "    enc_output, enc_state = tf.nn.dynamic_rnn(cell, enc_inputs, sequence_length=source_sequence_length, dtype=tf.float32)\n",
    "    return enc_output, enc_state\n",
    "\n",
    "\"\"\"\n",
    "DON'T MODIFY ANYTHING IN THIS CELL THAT IS BELOW THIS LINE\n",
    "\"\"\"\n",
    "tests.test_encoding_layer(encoding_layer)"
   ]
  },
  {
   "cell_type": "markdown",
   "metadata": {},
   "source": [
    "### Decoding - Training\n",
    "Create a training decoding layer:\n",
    "* Create a [`tf.contrib.seq2seq.TrainingHelper`](https://www.tensorflow.org/api_docs/python/tf/contrib/seq2seq/TrainingHelper) \n",
    "* Create a [`tf.contrib.seq2seq.BasicDecoder`](https://www.tensorflow.org/api_docs/python/tf/contrib/seq2seq/BasicDecoder)\n",
    "* Obtain the decoder outputs from [`tf.contrib.seq2seq.dynamic_decode`](https://www.tensorflow.org/api_docs/python/tf/contrib/seq2seq/dynamic_decode)"
   ]
  },
  {
   "cell_type": "code",
   "execution_count": 10,
   "metadata": {},
   "outputs": [
    {
     "name": "stdout",
     "output_type": "stream",
     "text": [
      "Tests Passed\n"
     ]
    }
   ],
   "source": [
    "def decoding_layer_train(encoder_state, dec_cell, dec_embed_input, \n",
    "                         target_sequence_length, max_summary_length, \n",
    "                         output_layer, keep_prob):\n",
    "    \"\"\"\n",
    "    Create a decoding layer for training\n",
    "    :param encoder_state: Encoder State\n",
    "    :param dec_cell: Decoder RNN Cell\n",
    "    :param dec_embed_input: Decoder embedded input\n",
    "    :param target_sequence_length: The lengths of each sequence in the target batch\n",
    "    :param max_summary_length: The length of the longest sequence in the batch\n",
    "    :param output_layer: Function to apply the output layer\n",
    "    :param keep_prob: Dropout keep probability\n",
    "    :return: BasicDecoderOutput containing training logits and sample_id\n",
    "    \"\"\"\n",
    "    helper = tf.contrib.seq2seq.TrainingHelper(dec_embed_input, target_sequence_length)\n",
    "    decoder = tf.contrib.seq2seq.BasicDecoder(dec_cell, helper, encoder_state, output_layer=output_layer)\n",
    "    dec_outputs, dec_state = tf.contrib.seq2seq.dynamic_decode(decoder, impute_finished=True,\n",
    "                                                              maximum_iterations=max_summary_length)\n",
    "    \n",
    "    #rst = tf.contrib.seq2seq.BasicDecoderOutput(dec_outputs, 1)\n",
    "    return dec_outputs\n",
    "\n",
    "\n",
    "\n",
    "\"\"\"\n",
    "DON'T MODIFY ANYTHING IN THIS CELL THAT IS BELOW THIS LINE\n",
    "\"\"\"\n",
    "tests.test_decoding_layer_train(decoding_layer_train)"
   ]
  },
  {
   "cell_type": "markdown",
   "metadata": {},
   "source": [
    "### Decoding - Inference\n",
    "Create inference decoder:\n",
    "* Create a [`tf.contrib.seq2seq.GreedyEmbeddingHelper`](https://www.tensorflow.org/api_docs/python/tf/contrib/seq2seq/GreedyEmbeddingHelper)\n",
    "* Create a [`tf.contrib.seq2seq.BasicDecoder`](https://www.tensorflow.org/api_docs/python/tf/contrib/seq2seq/BasicDecoder)\n",
    "* Obtain the decoder outputs from [`tf.contrib.seq2seq.dynamic_decode`](https://www.tensorflow.org/api_docs/python/tf/contrib/seq2seq/dynamic_decode)"
   ]
  },
  {
   "cell_type": "code",
   "execution_count": 11,
   "metadata": {
    "scrolled": true
   },
   "outputs": [
    {
     "name": "stdout",
     "output_type": "stream",
     "text": [
      "Tests Passed\n"
     ]
    }
   ],
   "source": [
    "def decoding_layer_infer(encoder_state, dec_cell, dec_embeddings, start_of_sequence_id,\n",
    "                         end_of_sequence_id, max_target_sequence_length,\n",
    "                         vocab_size, output_layer, batch_size, keep_prob):\n",
    "    \"\"\"\n",
    "    Create a decoding layer for inference\n",
    "    :param encoder_state: Encoder state\n",
    "    :param dec_cell: Decoder RNN Cell\n",
    "    :param dec_embeddings: Decoder embeddings\n",
    "    :param start_of_sequence_id: GO ID\n",
    "    :param end_of_sequence_id: EOS Id\n",
    "    :param max_target_sequence_length: Maximum length of target sequences\n",
    "    :param vocab_size: Size of decoder/target vocabulary\n",
    "    :param decoding_scope: TenorFlow Variable Scope for decoding\n",
    "    :param output_layer: Function to apply the output layer\n",
    "    :param batch_size: Batch size\n",
    "    :param keep_prob: Dropout keep probability\n",
    "    :return: BasicDecoderOutput containing inference logits and sample_id\n",
    "    \"\"\"\n",
    "    # TODO: Implement Function \n",
    "    start_tokens = tf.tile(tf.constant([start_of_sequence_id], dtype=tf.int32), [batch_size], name='start_tokens')\n",
    "    helper = tf.contrib.seq2seq.GreedyEmbeddingHelper(dec_embeddings, \n",
    "        start_tokens, end_of_sequence_id)\n",
    "    decoder = tf.contrib.seq2seq.BasicDecoder(dec_cell, helper, encoder_state, output_layer=output_layer)\n",
    "    dec_outputs, dec_state = tf.contrib.seq2seq.dynamic_decode(decoder,impute_finished=True,\n",
    "                                        maximum_iterations=max_target_sequence_length)\n",
    "    return dec_outputs\n",
    "\n",
    "\n",
    "\"\"\"\n",
    "DON'T MODIFY ANYTHING IN THIS CELL THAT IS BELOW THIS LINE\n",
    "\"\"\"\n",
    "tests.test_decoding_layer_infer(decoding_layer_infer)"
   ]
  },
  {
   "cell_type": "markdown",
   "metadata": {},
   "source": [
    "### Build the Decoding Layer\n",
    "Implement `decoding_layer()` to create a Decoder RNN layer.\n",
    "\n",
    "* Embed the target sequences\n",
    "* Construct the decoder LSTM cell (just like you constructed the encoder cell above)\n",
    "* Create an output layer to map the outputs of the decoder to the elements of our vocabulary\n",
    "* Use the your `decoding_layer_train(encoder_state, dec_cell, dec_embed_input, target_sequence_length, max_target_sequence_length, output_layer, keep_prob)` function to get the training logits.\n",
    "* Use your `decoding_layer_infer(encoder_state, dec_cell, dec_embeddings, start_of_sequence_id, end_of_sequence_id, max_target_sequence_length, vocab_size, output_layer, batch_size, keep_prob)` function to get the inference logits.\n",
    "\n",
    "Note: You'll need to use [tf.variable_scope](https://www.tensorflow.org/api_docs/python/tf/variable_scope) to share variables between training and inference."
   ]
  },
  {
   "cell_type": "code",
   "execution_count": 12,
   "metadata": {},
   "outputs": [
    {
     "name": "stdout",
     "output_type": "stream",
     "text": [
      "Tests Passed\n"
     ]
    }
   ],
   "source": [
    "from tensorflow.python.layers import core as layers_core\n",
    "def decoding_layer(dec_input, encoder_state,\n",
    "                   target_sequence_length, max_target_sequence_length,\n",
    "                   rnn_size,\n",
    "                   num_layers, target_vocab_to_int, target_vocab_size,\n",
    "                   batch_size, keep_prob, decoding_embedding_size):\n",
    "    \"\"\"\n",
    "    Create decoding layer\n",
    "    :param dec_input: Decoder input\n",
    "    :param encoder_state: Encoder state\n",
    "    :param target_sequence_length: The lengths of each sequence in the target batch\n",
    "    :param max_target_sequence_length: Maximum length of target sequences\n",
    "    :param rnn_size: RNN Size\n",
    "    :param num_layers: Number of layers\n",
    "    :param target_vocab_to_int: Dictionary to go from the target words to an id\n",
    "    :param target_vocab_size: Size of target vocabulary\n",
    "    :param batch_size: The size of the batch\n",
    "    :param keep_prob: Dropout keep probability\n",
    "    :return: Tuple of (Training BasicDecoderOutput, Inference BasicDecoderOutput)\n",
    "    \"\"\"\n",
    "    # embedding target sequence\n",
    "    dec_embeddings = tf.Variable(tf.random_uniform([target_vocab_size, decoding_embedding_size]))\n",
    "    dec_embed_input = tf.nn.embedding_lookup(dec_embeddings, dec_input)\n",
    "    # construct decoder lstm cell\n",
    "    dec_cell = tf.contrib.rnn.MultiRNNCell([\n",
    "        tf.contrib.rnn.LSTMCell(rnn_size) \\\n",
    "        for _ in range(num_layers) ])\n",
    "    # create output layer to map the outputs of the decoder to the elements of our vocabulary\n",
    "    output_layer = layers_core.Dense(target_vocab_size,\n",
    "                                    kernel_initializer = tf.truncated_normal_initializer(mean = 0.0, stddev=0.1))\n",
    "    # decoder train\n",
    "    with tf.variable_scope(\"decoding\") as decoding_scope:\n",
    "        dec_outputs_train = decoding_layer_train(encoder_state, dec_cell, dec_embed_input, \n",
    "                             target_sequence_length, max_target_sequence_length, \n",
    "                             output_layer, keep_prob)\n",
    "    # decoder inference\n",
    "    start_of_sequence_id = target_vocab_to_int[\"<GO>\"]\n",
    "    end_of_sequence_id = target_vocab_to_int[\"<EOS>\"]\n",
    "    with tf.variable_scope(\"decoding\", reuse=True) as decoding_scope:\n",
    "        dec_outputs_infer = decoding_layer_infer(encoder_state, dec_cell, dec_embeddings, start_of_sequence_id,\n",
    "                             end_of_sequence_id, max_target_sequence_length,\n",
    "                             target_vocab_size, output_layer, batch_size, keep_prob)\n",
    "    # rerturn\n",
    "    return dec_outputs_train, dec_outputs_infer\n",
    "\n",
    "\"\"\"\n",
    "DON'T MODIFY ANYTHING IN THIS CELL THAT IS BELOW THIS LINE\n",
    "\"\"\"\n",
    "tests.test_decoding_layer(decoding_layer)"
   ]
  },
  {
   "cell_type": "markdown",
   "metadata": {},
   "source": [
    "### Build the Neural Network\n",
    "Apply the functions you implemented above to:\n",
    "\n",
    "- Apply embedding to the input data for the encoder.\n",
    "- Encode the input using your `encoding_layer(rnn_inputs, rnn_size, num_layers, keep_prob,  source_sequence_length, source_vocab_size, encoding_embedding_size)`.\n",
    "- Process target data using your `process_decoder_input(target_data, target_vocab_to_int, batch_size)` function.\n",
    "- Apply embedding to the target data for the decoder.\n",
    "- Decode the encoded input using your `decoding_layer(dec_input, enc_state, target_sequence_length, max_target_sentence_length, rnn_size, num_layers, target_vocab_to_int, target_vocab_size, batch_size, keep_prob, dec_embedding_size)` function."
   ]
  },
  {
   "cell_type": "code",
   "execution_count": 13,
   "metadata": {},
   "outputs": [
    {
     "name": "stdout",
     "output_type": "stream",
     "text": [
      "Tests Passed\n"
     ]
    }
   ],
   "source": [
    "def seq2seq_model(input_data, target_data, keep_prob, batch_size,\n",
    "                  source_sequence_length, target_sequence_length,\n",
    "                  max_target_sentence_length,\n",
    "                  source_vocab_size, target_vocab_size,\n",
    "                  enc_embedding_size, dec_embedding_size,\n",
    "                  rnn_size, num_layers, target_vocab_to_int):\n",
    "    \"\"\"\n",
    "    Build the Sequence-to-Sequence part of the neural network\n",
    "    :param input_data: Input placeholder\n",
    "    :param target_data: Target placeholder\n",
    "    :param keep_prob: Dropout keep probability placeholder\n",
    "    :param batch_size: Batch Size\n",
    "    :param source_sequence_length: Sequence Lengths of source sequences in the batch\n",
    "    :param target_sequence_length: Sequence Lengths of target sequences in the batch\n",
    "    :param source_vocab_size: Source vocabulary size\n",
    "    :param target_vocab_size: Target vocabulary size\n",
    "    :param enc_embedding_size: Decoder embedding size\n",
    "    :param dec_embedding_size: Encoder embedding size\n",
    "    :param rnn_size: RNN Size\n",
    "    :param num_layers: Number of layers\n",
    "    :param target_vocab_to_int: Dictionary to go from the target words to an id\n",
    "    :return: Tuple of (Training BasicDecoderOutput, Inference BasicDecoderOutput)\n",
    "    \"\"\"\n",
    "    # TODO: Implement Function\n",
    "    # embedding and encoding\n",
    "    enc_output, enc_state = encoding_layer(input_data, rnn_size, num_layers, keep_prob, \n",
    "                   source_sequence_length, source_vocab_size, \n",
    "                   enc_embedding_size)\n",
    "    # process target data\n",
    "    dec_input = process_decoder_input(target_data, target_vocab_to_int, batch_size) \n",
    "    # embedding and decoding\n",
    "    dec_outputs_train, dec_outputs_infer = decoding_layer(dec_input, enc_state,\n",
    "                   target_sequence_length, tf.reduce_max(target_sequence_length),\n",
    "                   rnn_size,\n",
    "                   num_layers, target_vocab_to_int, target_vocab_size,\n",
    "                   batch_size, keep_prob, dec_embedding_size)\n",
    "    return dec_outputs_train, dec_outputs_infer\n",
    "\"\"\"\n",
    "DON'T MODIFY ANYTHING IN THIS CELL THAT IS BELOW THIS LINE\n",
    "\"\"\"\n",
    "tests.test_seq2seq_model(seq2seq_model)"
   ]
  },
  {
   "cell_type": "markdown",
   "metadata": {},
   "source": [
    "## Neural Network Training\n",
    "### Hyperparameters\n",
    "Tune the following parameters:\n",
    "\n",
    "- Set `epochs` to the number of epochs.\n",
    "- Set `batch_size` to the batch size.\n",
    "- Set `rnn_size` to the size of the RNNs.\n",
    "- Set `num_layers` to the number of layers.\n",
    "- Set `encoding_embedding_size` to the size of the embedding for the encoder.\n",
    "- Set `decoding_embedding_size` to the size of the embedding for the decoder.\n",
    "- Set `learning_rate` to the learning rate.\n",
    "- Set `keep_probability` to the Dropout keep probability\n",
    "- Set `display_step` to state how many steps between each debug output statement"
   ]
  },
  {
   "cell_type": "code",
   "execution_count": 14,
   "metadata": {
    "collapsed": true
   },
   "outputs": [],
   "source": [
    "# Number of Epochs\n",
    "epochs = 5\n",
    "# Batch Size\n",
    "batch_size = 128\n",
    "# RNN Size\n",
    "rnn_size = 128\n",
    "# Number of Layers\n",
    "num_layers = 2\n",
    "# Embedding Size\n",
    "encoding_embedding_size = 200\n",
    "decoding_embedding_size = 200\n",
    "# Learning Rate\n",
    "learning_rate = 0.001\n",
    "# Dropout Keep Probability\n",
    "keep_probability = 0.5\n",
    "display_step = 50"
   ]
  },
  {
   "cell_type": "markdown",
   "metadata": {},
   "source": [
    "### Build the Graph\n",
    "Build the graph using the neural network you implemented."
   ]
  },
  {
   "cell_type": "code",
   "execution_count": 15,
   "metadata": {
    "collapsed": true
   },
   "outputs": [],
   "source": [
    "\"\"\"\n",
    "DON'T MODIFY ANYTHING IN THIS CELL\n",
    "\"\"\"\n",
    "save_path = 'checkpoints/dev'\n",
    "(source_int_text, target_int_text), (source_vocab_to_int, target_vocab_to_int), _ = helper.load_preprocess()\n",
    "max_target_sentence_length = max([len(sentence) for sentence in source_int_text])\n",
    "\n",
    "train_graph = tf.Graph()\n",
    "with train_graph.as_default():\n",
    "    input_data, targets, lr, keep_prob, target_sequence_length, max_target_sequence_length, source_sequence_length = model_inputs()\n",
    "\n",
    "    #sequence_length = tf.placeholder_with_default(max_target_sentence_length, None, name='sequence_length')\n",
    "    input_shape = tf.shape(input_data)\n",
    "\n",
    "    train_logits, inference_logits = seq2seq_model(tf.reverse(input_data, [-1]),\n",
    "                                                   targets,\n",
    "                                                   keep_prob,\n",
    "                                                   batch_size,\n",
    "                                                   source_sequence_length,\n",
    "                                                   target_sequence_length,\n",
    "                                                   max_target_sequence_length,\n",
    "                                                   len(source_vocab_to_int),\n",
    "                                                   len(target_vocab_to_int),\n",
    "                                                   encoding_embedding_size,\n",
    "                                                   decoding_embedding_size,\n",
    "                                                   rnn_size,\n",
    "                                                   num_layers,\n",
    "                                                   target_vocab_to_int)\n",
    "\n",
    "\n",
    "    training_logits = tf.identity(train_logits.rnn_output, name='logits')\n",
    "    inference_logits = tf.identity(inference_logits.sample_id, name='predictions')\n",
    "\n",
    "    masks = tf.sequence_mask(target_sequence_length, max_target_sequence_length, dtype=tf.float32, name='masks')\n",
    "\n",
    "    with tf.name_scope(\"optimization\"):\n",
    "        # Loss function\n",
    "        cost = tf.contrib.seq2seq.sequence_loss(\n",
    "            training_logits,\n",
    "            targets,\n",
    "            masks)\n",
    "\n",
    "        # Optimizer\n",
    "        optimizer = tf.train.AdamOptimizer(lr)\n",
    "\n",
    "        # Gradient Clipping\n",
    "        gradients = optimizer.compute_gradients(cost)\n",
    "        capped_gradients = [(tf.clip_by_value(grad, -1., 1.), var) for grad, var in gradients if grad is not None]\n",
    "        train_op = optimizer.apply_gradients(capped_gradients)\n"
   ]
  },
  {
   "cell_type": "markdown",
   "metadata": {},
   "source": [
    "Batch and pad the source and target sequences"
   ]
  },
  {
   "cell_type": "code",
   "execution_count": 16,
   "metadata": {
    "collapsed": true
   },
   "outputs": [],
   "source": [
    "\"\"\"\n",
    "DON'T MODIFY ANYTHING IN THIS CELL\n",
    "\"\"\"\n",
    "def pad_sentence_batch(sentence_batch, pad_int):\n",
    "    \"\"\"Pad sentences with <PAD> so that each sentence of a batch has the same length\"\"\"\n",
    "    max_sentence = max([len(sentence) for sentence in sentence_batch])\n",
    "    return [sentence + [pad_int] * (max_sentence - len(sentence)) for sentence in sentence_batch]\n",
    "\n",
    "\n",
    "def get_batches(sources, targets, batch_size, source_pad_int, target_pad_int):\n",
    "    \"\"\"Batch targets, sources, and the lengths of their sentences together\"\"\"\n",
    "    for batch_i in range(0, len(sources)//batch_size):\n",
    "        start_i = batch_i * batch_size\n",
    "\n",
    "        # Slice the right amount for the batch\n",
    "        sources_batch = sources[start_i:start_i + batch_size]\n",
    "        targets_batch = targets[start_i:start_i + batch_size]\n",
    "\n",
    "        # Pad\n",
    "        pad_sources_batch = np.array(pad_sentence_batch(sources_batch, source_pad_int))\n",
    "        pad_targets_batch = np.array(pad_sentence_batch(targets_batch, target_pad_int))\n",
    "\n",
    "        # Need the lengths for the _lengths parameters\n",
    "        pad_targets_lengths = []\n",
    "        for target in pad_targets_batch:\n",
    "            pad_targets_lengths.append(len(target))\n",
    "\n",
    "        pad_source_lengths = []\n",
    "        for source in pad_sources_batch:\n",
    "            pad_source_lengths.append(len(source))\n",
    "\n",
    "        yield pad_sources_batch, pad_targets_batch, pad_source_lengths, pad_targets_lengths\n"
   ]
  },
  {
   "cell_type": "markdown",
   "metadata": {},
   "source": [
    "### Train\n",
    "Train the neural network on the preprocessed data. If you have a hard time getting a good loss, check the forms to see if anyone is having the same problem."
   ]
  },
  {
   "cell_type": "code",
   "execution_count": 17,
   "metadata": {
    "scrolled": false
   },
   "outputs": [
    {
     "name": "stdout",
     "output_type": "stream",
     "text": [
      "Epoch   0 Batch   50/1077 - Train Accuracy: 0.3773, Validation Accuracy: 0.4496, Loss: 2.8695\n",
      "Epoch   0 Batch  100/1077 - Train Accuracy: 0.4418, Validation Accuracy: 0.4908, Loss: 2.4164\n",
      "Epoch   0 Batch  150/1077 - Train Accuracy: 0.4888, Validation Accuracy: 0.5039, Loss: 1.9271\n",
      "Epoch   0 Batch  200/1077 - Train Accuracy: 0.4625, Validation Accuracy: 0.5238, Loss: 1.7421\n",
      "Epoch   0 Batch  250/1077 - Train Accuracy: 0.4453, Validation Accuracy: 0.4741, Loss: 1.3840\n",
      "Epoch   0 Batch  300/1077 - Train Accuracy: 0.4511, Validation Accuracy: 0.5103, Loss: 1.3480\n",
      "Epoch   0 Batch  350/1077 - Train Accuracy: 0.4785, Validation Accuracy: 0.5515, Loss: 1.1947\n",
      "Epoch   0 Batch  400/1077 - Train Accuracy: 0.5344, Validation Accuracy: 0.5543, Loss: 1.0037\n",
      "Epoch   0 Batch  450/1077 - Train Accuracy: 0.5230, Validation Accuracy: 0.5760, Loss: 0.9099\n",
      "Epoch   0 Batch  500/1077 - Train Accuracy: 0.5492, Validation Accuracy: 0.5909, Loss: 0.8309\n",
      "Epoch   0 Batch  550/1077 - Train Accuracy: 0.5266, Validation Accuracy: 0.5927, Loss: 0.8153\n",
      "Epoch   0 Batch  600/1077 - Train Accuracy: 0.6053, Validation Accuracy: 0.6058, Loss: 0.6986\n",
      "Epoch   0 Batch  650/1077 - Train Accuracy: 0.5645, Validation Accuracy: 0.6126, Loss: 0.7162\n",
      "Epoch   0 Batch  700/1077 - Train Accuracy: 0.5754, Validation Accuracy: 0.6090, Loss: 0.6608\n",
      "Epoch   0 Batch  750/1077 - Train Accuracy: 0.6215, Validation Accuracy: 0.6257, Loss: 0.6290\n",
      "Epoch   0 Batch  800/1077 - Train Accuracy: 0.5945, Validation Accuracy: 0.6307, Loss: 0.6065\n",
      "Epoch   0 Batch  850/1077 - Train Accuracy: 0.6257, Validation Accuracy: 0.6286, Loss: 0.6015\n",
      "Epoch   0 Batch  900/1077 - Train Accuracy: 0.6484, Validation Accuracy: 0.6481, Loss: 0.5582\n",
      "Epoch   0 Batch  950/1077 - Train Accuracy: 0.6481, Validation Accuracy: 0.6662, Loss: 0.4960\n",
      "Epoch   0 Batch 1000/1077 - Train Accuracy: 0.7072, Validation Accuracy: 0.6832, Loss: 0.4610\n",
      "Epoch   0 Batch 1050/1077 - Train Accuracy: 0.6793, Validation Accuracy: 0.7223, Loss: 0.4675\n",
      "Epoch   1 Batch   50/1077 - Train Accuracy: 0.7051, Validation Accuracy: 0.7283, Loss: 0.4231\n",
      "Epoch   1 Batch  100/1077 - Train Accuracy: 0.7609, Validation Accuracy: 0.7362, Loss: 0.4030\n",
      "Epoch   1 Batch  150/1077 - Train Accuracy: 0.7932, Validation Accuracy: 0.7237, Loss: 0.3576\n",
      "Epoch   1 Batch  200/1077 - Train Accuracy: 0.7738, Validation Accuracy: 0.7386, Loss: 0.3534\n",
      "Epoch   1 Batch  250/1077 - Train Accuracy: 0.8033, Validation Accuracy: 0.7649, Loss: 0.2974\n",
      "Epoch   1 Batch  300/1077 - Train Accuracy: 0.8026, Validation Accuracy: 0.7763, Loss: 0.3062\n",
      "Epoch   1 Batch  350/1077 - Train Accuracy: 0.7652, Validation Accuracy: 0.7898, Loss: 0.2966\n",
      "Epoch   1 Batch  400/1077 - Train Accuracy: 0.8035, Validation Accuracy: 0.7919, Loss: 0.2686\n",
      "Epoch   1 Batch  450/1077 - Train Accuracy: 0.8508, Validation Accuracy: 0.8029, Loss: 0.2415\n",
      "Epoch   1 Batch  500/1077 - Train Accuracy: 0.8477, Validation Accuracy: 0.8164, Loss: 0.2148\n",
      "Epoch   1 Batch  550/1077 - Train Accuracy: 0.8258, Validation Accuracy: 0.8320, Loss: 0.2123\n",
      "Epoch   1 Batch  600/1077 - Train Accuracy: 0.8817, Validation Accuracy: 0.8374, Loss: 0.1807\n",
      "Epoch   1 Batch  650/1077 - Train Accuracy: 0.8930, Validation Accuracy: 0.8342, Loss: 0.1815\n",
      "Epoch   1 Batch  700/1077 - Train Accuracy: 0.8738, Validation Accuracy: 0.8292, Loss: 0.1597\n",
      "Epoch   1 Batch  750/1077 - Train Accuracy: 0.8723, Validation Accuracy: 0.8462, Loss: 0.1496\n",
      "Epoch   1 Batch  800/1077 - Train Accuracy: 0.8836, Validation Accuracy: 0.8487, Loss: 0.1444\n",
      "Epoch   1 Batch  850/1077 - Train Accuracy: 0.8404, Validation Accuracy: 0.8658, Loss: 0.1654\n",
      "Epoch   1 Batch  900/1077 - Train Accuracy: 0.9082, Validation Accuracy: 0.8537, Loss: 0.1347\n",
      "Epoch   1 Batch  950/1077 - Train Accuracy: 0.9133, Validation Accuracy: 0.8683, Loss: 0.1069\n",
      "Epoch   1 Batch 1000/1077 - Train Accuracy: 0.9040, Validation Accuracy: 0.8768, Loss: 0.1096\n",
      "Epoch   1 Batch 1050/1077 - Train Accuracy: 0.9172, Validation Accuracy: 0.8754, Loss: 0.0954\n",
      "Epoch   2 Batch   50/1077 - Train Accuracy: 0.9348, Validation Accuracy: 0.8906, Loss: 0.0924\n",
      "Epoch   2 Batch  100/1077 - Train Accuracy: 0.9156, Validation Accuracy: 0.8839, Loss: 0.0850\n",
      "Epoch   2 Batch  150/1077 - Train Accuracy: 0.9245, Validation Accuracy: 0.8910, Loss: 0.0861\n",
      "Epoch   2 Batch  200/1077 - Train Accuracy: 0.9121, Validation Accuracy: 0.8764, Loss: 0.0846\n",
      "Epoch   2 Batch  250/1077 - Train Accuracy: 0.9244, Validation Accuracy: 0.8839, Loss: 0.0699\n",
      "Epoch   2 Batch  300/1077 - Train Accuracy: 0.9535, Validation Accuracy: 0.8832, Loss: 0.0685\n",
      "Epoch   2 Batch  350/1077 - Train Accuracy: 0.9316, Validation Accuracy: 0.9031, Loss: 0.0737\n",
      "Epoch   2 Batch  400/1077 - Train Accuracy: 0.9398, Validation Accuracy: 0.8775, Loss: 0.0756\n",
      "Epoch   2 Batch  450/1077 - Train Accuracy: 0.9422, Validation Accuracy: 0.8888, Loss: 0.0653\n",
      "Epoch   2 Batch  500/1077 - Train Accuracy: 0.9234, Validation Accuracy: 0.9247, Loss: 0.0524\n",
      "Epoch   2 Batch  550/1077 - Train Accuracy: 0.9027, Validation Accuracy: 0.9084, Loss: 0.0561\n",
      "Epoch   2 Batch  600/1077 - Train Accuracy: 0.9453, Validation Accuracy: 0.9197, Loss: 0.0549\n",
      "Epoch   2 Batch  650/1077 - Train Accuracy: 0.9418, Validation Accuracy: 0.9169, Loss: 0.0641\n",
      "Epoch   2 Batch  700/1077 - Train Accuracy: 0.9453, Validation Accuracy: 0.9091, Loss: 0.0476\n",
      "Epoch   2 Batch  750/1077 - Train Accuracy: 0.9469, Validation Accuracy: 0.9190, Loss: 0.0518\n",
      "Epoch   2 Batch  800/1077 - Train Accuracy: 0.9402, Validation Accuracy: 0.9244, Loss: 0.0549\n",
      "Epoch   2 Batch  850/1077 - Train Accuracy: 0.9230, Validation Accuracy: 0.9347, Loss: 0.0699\n",
      "Epoch   2 Batch  900/1077 - Train Accuracy: 0.9422, Validation Accuracy: 0.9116, Loss: 0.0557\n",
      "Epoch   2 Batch  950/1077 - Train Accuracy: 0.9565, Validation Accuracy: 0.9212, Loss: 0.0428\n",
      "Epoch   2 Batch 1000/1077 - Train Accuracy: 0.9256, Validation Accuracy: 0.9240, Loss: 0.0518\n",
      "Epoch   2 Batch 1050/1077 - Train Accuracy: 0.9520, Validation Accuracy: 0.9464, Loss: 0.0379\n",
      "Epoch   3 Batch   50/1077 - Train Accuracy: 0.9453, Validation Accuracy: 0.9364, Loss: 0.0442\n",
      "Epoch   3 Batch  100/1077 - Train Accuracy: 0.9473, Validation Accuracy: 0.9492, Loss: 0.0403\n",
      "Epoch   3 Batch  150/1077 - Train Accuracy: 0.9446, Validation Accuracy: 0.9393, Loss: 0.0403\n",
      "Epoch   3 Batch  200/1077 - Train Accuracy: 0.9449, Validation Accuracy: 0.9311, Loss: 0.0412\n",
      "Epoch   3 Batch  250/1077 - Train Accuracy: 0.9542, Validation Accuracy: 0.9414, Loss: 0.0375\n",
      "Epoch   3 Batch  300/1077 - Train Accuracy: 0.9762, Validation Accuracy: 0.9219, Loss: 0.0310\n",
      "Epoch   3 Batch  350/1077 - Train Accuracy: 0.9469, Validation Accuracy: 0.9393, Loss: 0.0378\n",
      "Epoch   3 Batch  400/1077 - Train Accuracy: 0.9539, Validation Accuracy: 0.9435, Loss: 0.0469\n",
      "Epoch   3 Batch  450/1077 - Train Accuracy: 0.9473, Validation Accuracy: 0.9308, Loss: 0.0392\n",
      "Epoch   3 Batch  500/1077 - Train Accuracy: 0.9621, Validation Accuracy: 0.9510, Loss: 0.0303\n",
      "Epoch   3 Batch  550/1077 - Train Accuracy: 0.9203, Validation Accuracy: 0.9450, Loss: 0.0331\n",
      "Epoch   3 Batch  600/1077 - Train Accuracy: 0.9758, Validation Accuracy: 0.9474, Loss: 0.0341\n",
      "Epoch   3 Batch  650/1077 - Train Accuracy: 0.9660, Validation Accuracy: 0.9510, Loss: 0.0388\n",
      "Epoch   3 Batch  700/1077 - Train Accuracy: 0.9527, Validation Accuracy: 0.9276, Loss: 0.0285\n",
      "Epoch   3 Batch  750/1077 - Train Accuracy: 0.9492, Validation Accuracy: 0.9432, Loss: 0.0321\n",
      "Epoch   3 Batch  800/1077 - Train Accuracy: 0.9602, Validation Accuracy: 0.9524, Loss: 0.0341\n",
      "Epoch   3 Batch  850/1077 - Train Accuracy: 0.9457, Validation Accuracy: 0.9570, Loss: 0.0484\n",
      "Epoch   3 Batch  900/1077 - Train Accuracy: 0.9582, Validation Accuracy: 0.9531, Loss: 0.0356\n",
      "Epoch   3 Batch  950/1077 - Train Accuracy: 0.9650, Validation Accuracy: 0.9570, Loss: 0.0254\n",
      "Epoch   3 Batch 1000/1077 - Train Accuracy: 0.9472, Validation Accuracy: 0.9510, Loss: 0.0342\n",
      "Epoch   3 Batch 1050/1077 - Train Accuracy: 0.9617, Validation Accuracy: 0.9467, Loss: 0.0249\n",
      "Epoch   4 Batch   50/1077 - Train Accuracy: 0.9727, Validation Accuracy: 0.9627, Loss: 0.0280\n",
      "Epoch   4 Batch  100/1077 - Train Accuracy: 0.9730, Validation Accuracy: 0.9496, Loss: 0.0292\n",
      "Epoch   4 Batch  150/1077 - Train Accuracy: 0.9710, Validation Accuracy: 0.9553, Loss: 0.0249\n",
      "Epoch   4 Batch  200/1077 - Train Accuracy: 0.9605, Validation Accuracy: 0.9524, Loss: 0.0266\n"
     ]
    },
    {
     "name": "stdout",
     "output_type": "stream",
     "text": [
      "Epoch   4 Batch  250/1077 - Train Accuracy: 0.9698, Validation Accuracy: 0.9510, Loss: 0.0266\n",
      "Epoch   4 Batch  300/1077 - Train Accuracy: 0.9696, Validation Accuracy: 0.9411, Loss: 0.0217\n",
      "Epoch   4 Batch  350/1077 - Train Accuracy: 0.9688, Validation Accuracy: 0.9471, Loss: 0.0251\n",
      "Epoch   4 Batch  400/1077 - Train Accuracy: 0.9535, Validation Accuracy: 0.9599, Loss: 0.0332\n",
      "Epoch   4 Batch  450/1077 - Train Accuracy: 0.9637, Validation Accuracy: 0.9489, Loss: 0.0299\n",
      "Epoch   4 Batch  500/1077 - Train Accuracy: 0.9578, Validation Accuracy: 0.9638, Loss: 0.0205\n",
      "Epoch   4 Batch  550/1077 - Train Accuracy: 0.9512, Validation Accuracy: 0.9439, Loss: 0.0234\n",
      "Epoch   4 Batch  600/1077 - Train Accuracy: 0.9855, Validation Accuracy: 0.9517, Loss: 0.0251\n",
      "Epoch   4 Batch  650/1077 - Train Accuracy: 0.9801, Validation Accuracy: 0.9542, Loss: 0.0231\n",
      "Epoch   4 Batch  700/1077 - Train Accuracy: 0.9723, Validation Accuracy: 0.9513, Loss: 0.0214\n",
      "Epoch   4 Batch  750/1077 - Train Accuracy: 0.9656, Validation Accuracy: 0.9560, Loss: 0.0209\n",
      "Epoch   4 Batch  800/1077 - Train Accuracy: 0.9766, Validation Accuracy: 0.9744, Loss: 0.0186\n",
      "Epoch   4 Batch  850/1077 - Train Accuracy: 0.9617, Validation Accuracy: 0.9680, Loss: 0.0374\n",
      "Epoch   4 Batch  900/1077 - Train Accuracy: 0.9762, Validation Accuracy: 0.9574, Loss: 0.0250\n",
      "Epoch   4 Batch  950/1077 - Train Accuracy: 0.9661, Validation Accuracy: 0.9553, Loss: 0.0183\n",
      "Epoch   4 Batch 1000/1077 - Train Accuracy: 0.9613, Validation Accuracy: 0.9588, Loss: 0.0269\n",
      "Epoch   4 Batch 1050/1077 - Train Accuracy: 0.9711, Validation Accuracy: 0.9510, Loss: 0.0188\n",
      "Model Trained and Saved\n"
     ]
    }
   ],
   "source": [
    "\"\"\"\n",
    "DON'T MODIFY ANYTHING IN THIS CELL\n",
    "\"\"\"\n",
    "def get_accuracy(target, logits):\n",
    "    \"\"\"\n",
    "    Calculate accuracy\n",
    "    \"\"\"\n",
    "    max_seq = max(target.shape[1], logits.shape[1])\n",
    "    if max_seq - target.shape[1]:\n",
    "        target = np.pad(\n",
    "            target,\n",
    "            [(0,0),(0,max_seq - target.shape[1])],\n",
    "            'constant')\n",
    "    if max_seq - logits.shape[1]:\n",
    "        logits = np.pad(\n",
    "            logits,\n",
    "            [(0,0),(0,max_seq - logits.shape[1])],\n",
    "            'constant')\n",
    "\n",
    "    return np.mean(np.equal(target, logits))\n",
    "\n",
    "# Split data to training and validation sets\n",
    "train_source = source_int_text[batch_size:]\n",
    "train_target = target_int_text[batch_size:]\n",
    "valid_source = source_int_text[:batch_size]\n",
    "valid_target = target_int_text[:batch_size]\n",
    "(valid_sources_batch, valid_targets_batch, valid_sources_lengths, valid_targets_lengths ) = next(get_batches(valid_source,\n",
    "                                                                                                             valid_target,\n",
    "                                                                                                             batch_size,\n",
    "                                                                                                             source_vocab_to_int['<PAD>'],\n",
    "                                                                                                             target_vocab_to_int['<PAD>']))                                                                                                 \n",
    "with tf.Session(graph=train_graph) as sess:\n",
    "    sess.run(tf.global_variables_initializer())\n",
    "\n",
    "    for epoch_i in range(epochs):\n",
    "        \n",
    "        for batch_i, (source_batch, target_batch, sources_lengths, targets_lengths) in enumerate(\n",
    "                get_batches(train_source, train_target, batch_size,\n",
    "                            source_vocab_to_int['<PAD>'],\n",
    "                            target_vocab_to_int['<PAD>'])):\n",
    "            \n",
    "            _, loss = sess.run(\n",
    "                [train_op, cost],\n",
    "                {input_data: source_batch,\n",
    "                 targets: target_batch,\n",
    "                 lr: learning_rate,\n",
    "                 target_sequence_length: targets_lengths,\n",
    "                 source_sequence_length: sources_lengths,\n",
    "                 keep_prob: keep_probability})\n",
    "            \n",
    "\n",
    "            if batch_i % display_step == 0 and batch_i > 0:\n",
    "\n",
    "                \n",
    "                batch_train_logits = sess.run(\n",
    "                    inference_logits,\n",
    "                    {input_data: source_batch,\n",
    "                     source_sequence_length: sources_lengths,\n",
    "                     target_sequence_length: targets_lengths,\n",
    "                     keep_prob: 1.0})\n",
    "\n",
    "                \n",
    "                batch_valid_logits = sess.run(\n",
    "                    inference_logits,\n",
    "                    {input_data: valid_sources_batch,\n",
    "                     source_sequence_length: valid_sources_lengths,\n",
    "                     target_sequence_length: valid_targets_lengths,\n",
    "                     keep_prob: 1.0})\n",
    "                \n",
    "\n",
    "                train_acc = get_accuracy(target_batch, batch_train_logits)\n",
    "                \n",
    "\n",
    "                valid_acc = get_accuracy(valid_targets_batch, batch_valid_logits)\n",
    "                \n",
    "\n",
    "                print('Epoch {:>3} Batch {:>4}/{} - Train Accuracy: {:>6.4f}, Validation Accuracy: {:>6.4f}, Loss: {:>6.4f}'\n",
    "                      .format(epoch_i, batch_i, len(source_int_text) // batch_size, train_acc, valid_acc, loss))\n",
    "\n",
    "    # Save Model\n",
    "    saver = tf.train.Saver()\n",
    "    saver.save(sess, save_path)\n",
    "    print('Model Trained and Saved')"
   ]
  },
  {
   "cell_type": "markdown",
   "metadata": {},
   "source": [
    "### Save Parameters\n",
    "Save the `batch_size` and `save_path` parameters for inference."
   ]
  },
  {
   "cell_type": "code",
   "execution_count": 18,
   "metadata": {
    "collapsed": true
   },
   "outputs": [],
   "source": [
    "\"\"\"\n",
    "DON'T MODIFY ANYTHING IN THIS CELL\n",
    "\"\"\"\n",
    "# Save parameters for checkpoint\n",
    "helper.save_params(save_path)"
   ]
  },
  {
   "cell_type": "markdown",
   "metadata": {},
   "source": [
    "# Checkpoint"
   ]
  },
  {
   "cell_type": "code",
   "execution_count": 19,
   "metadata": {
    "collapsed": true
   },
   "outputs": [],
   "source": [
    "\"\"\"\n",
    "DON'T MODIFY ANYTHING IN THIS CELL\n",
    "\"\"\"\n",
    "import tensorflow as tf\n",
    "import numpy as np\n",
    "import helper\n",
    "import problem_unittests as tests\n",
    "\n",
    "_, (source_vocab_to_int, target_vocab_to_int), (source_int_to_vocab, target_int_to_vocab) = helper.load_preprocess()\n",
    "load_path = helper.load_params()"
   ]
  },
  {
   "cell_type": "markdown",
   "metadata": {},
   "source": [
    "## Sentence to Sequence\n",
    "To feed a sentence into the model for translation, you first need to preprocess it.  Implement the function `sentence_to_seq()` to preprocess new sentences.\n",
    "\n",
    "- Convert the sentence to lowercase\n",
    "- Convert words into ids using `vocab_to_int`\n",
    " - Convert words not in the vocabulary, to the `<UNK>` word id."
   ]
  },
  {
   "cell_type": "code",
   "execution_count": 20,
   "metadata": {},
   "outputs": [
    {
     "name": "stdout",
     "output_type": "stream",
     "text": [
      "Tests Passed\n"
     ]
    }
   ],
   "source": [
    "def sentence_to_seq(sentence, vocab_to_int):\n",
    "    \"\"\"\n",
    "    Convert a sentence to a sequence of ids\n",
    "    :param sentence: String\n",
    "    :param vocab_to_int: Dictionary to go from the words to an id\n",
    "    :return: List of word ids\n",
    "    \"\"\"\n",
    "    # TODO: Implement Function\n",
    "    rst = list(map(lambda x:vocab_to_int[x] if x in vocab_to_int else vocab_to_int[\"<UNK>\"], sentence.lower().split()))\n",
    "    return rst\n",
    "\n",
    "\n",
    "\"\"\"\n",
    "DON'T MODIFY ANYTHING IN THIS CELL THAT IS BELOW THIS LINE\n",
    "\"\"\"\n",
    "tests.test_sentence_to_seq(sentence_to_seq)"
   ]
  },
  {
   "cell_type": "markdown",
   "metadata": {},
   "source": [
    "## Translate\n",
    "This will translate `translate_sentence` from English to French."
   ]
  },
  {
   "cell_type": "code",
   "execution_count": 21,
   "metadata": {},
   "outputs": [
    {
     "name": "stdout",
     "output_type": "stream",
     "text": [
      "INFO:tensorflow:Restoring parameters from checkpoints/dev\n",
      "Input\n",
      "  Word Ids:      [104, 67, 133, 211, 178, 127, 88]\n",
      "  English Words: ['he', 'saw', 'a', 'old', 'yellow', 'truck', '.']\n",
      "\n",
      "Prediction\n",
      "  Word Ids:      [351, 310, 93, 210, 307, 296, 141, 1]\n",
      "  French Words: il a vu un camion jaune . <EOS>\n"
     ]
    }
   ],
   "source": [
    "translate_sentence = 'he saw a old yellow truck .'\n",
    "\n",
    "\n",
    "\"\"\"\n",
    "DON'T MODIFY ANYTHING IN THIS CELL\n",
    "\"\"\"\n",
    "translate_sentence = sentence_to_seq(translate_sentence, source_vocab_to_int)\n",
    "\n",
    "loaded_graph = tf.Graph()\n",
    "with tf.Session(graph=loaded_graph) as sess:\n",
    "    # Load saved model\n",
    "    loader = tf.train.import_meta_graph(load_path + '.meta')\n",
    "    loader.restore(sess, load_path)\n",
    "\n",
    "    input_data = loaded_graph.get_tensor_by_name('input:0')\n",
    "    logits = loaded_graph.get_tensor_by_name('predictions:0')\n",
    "    target_sequence_length = loaded_graph.get_tensor_by_name('target_sequence_length:0')\n",
    "    source_sequence_length = loaded_graph.get_tensor_by_name('source_sequence_length:0')\n",
    "    keep_prob = loaded_graph.get_tensor_by_name('keep_prob:0')\n",
    "\n",
    "    translate_logits = sess.run(logits, {input_data: [translate_sentence]*batch_size,\n",
    "                                         target_sequence_length: [len(translate_sentence)*2]*batch_size,\n",
    "                                         source_sequence_length: [len(translate_sentence)]*batch_size,\n",
    "                                         keep_prob: 1.0})[0]\n",
    "\n",
    "print('Input')\n",
    "print('  Word Ids:      {}'.format([i for i in translate_sentence]))\n",
    "print('  English Words: {}'.format([source_int_to_vocab[i] for i in translate_sentence]))\n",
    "\n",
    "print('\\nPrediction')\n",
    "print('  Word Ids:      {}'.format([i for i in translate_logits]))\n",
    "print('  French Words: {}'.format(\" \".join([target_int_to_vocab[i] for i in translate_logits])))\n"
   ]
  },
  {
   "cell_type": "markdown",
   "metadata": {},
   "source": [
    "## Imperfect Translation\n",
    "You might notice that some sentences translate better than others.  Since the dataset you're using only has a vocabulary of 227 English words of the thousands that you use, you're only going to see good results using these words.  For this project, you don't need a perfect translation. However, if you want to create a better translation model, you'll need better data.\n",
    "\n",
    "You can train on the [WMT10 French-English corpus](http://www.statmt.org/wmt10/training-giga-fren.tar).  This dataset has more vocabulary and richer in topics discussed.  However, this will take you days to train, so make sure you've a GPU and the neural network is performing well on dataset we provided.  Just make sure you play with the WMT10 corpus after you've submitted this project.\n",
    "## Submitting This Project\n",
    "When submitting this project, make sure to run all the cells before saving the notebook. Save the notebook file as \"dlnd_language_translation.ipynb\" and save it as a HTML file under \"File\" -> \"Download as\". Include the \"helper.py\" and \"problem_unittests.py\" files in your submission."
   ]
  }
 ],
 "metadata": {
  "anaconda-cloud": {},
  "kernelspec": {
   "display_name": "Python 3",
   "language": "python",
   "name": "python3"
  },
  "language_info": {
   "codemirror_mode": {
    "name": "ipython",
    "version": 3
   },
   "file_extension": ".py",
   "mimetype": "text/x-python",
   "name": "python",
   "nbconvert_exporter": "python",
   "pygments_lexer": "ipython3",
   "version": "3.6.1"
  }
 },
 "nbformat": 4,
 "nbformat_minor": 1
}
