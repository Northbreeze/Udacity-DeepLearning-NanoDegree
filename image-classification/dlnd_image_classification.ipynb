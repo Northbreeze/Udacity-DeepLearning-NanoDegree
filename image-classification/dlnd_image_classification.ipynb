{
 "cells": [
  {
   "cell_type": "markdown",
   "metadata": {
    "collapsed": true
   },
   "source": [
    "# Image Classification\n",
    "In this project, you'll classify images from the [CIFAR-10 dataset](https://www.cs.toronto.edu/~kriz/cifar.html).  The dataset consists of airplanes, dogs, cats, and other objects. You'll preprocess the images, then train a convolutional neural network on all the samples. The images need to be normalized and the labels need to be one-hot encoded.  You'll get to apply what you learned and build a convolutional, max pooling, dropout, and fully connected layers.  At the end, you'll get to see your neural network's predictions on the sample images.\n",
    "## Get the Data\n",
    "Run the following cell to download the [CIFAR-10 dataset for python](https://www.cs.toronto.edu/~kriz/cifar-10-python.tar.gz)."
   ]
  },
  {
   "cell_type": "code",
   "execution_count": 2,
   "metadata": {
    "collapsed": false
   },
   "outputs": [
    {
     "name": "stdout",
     "output_type": "stream",
     "text": [
      "All files found!\n"
     ]
    }
   ],
   "source": [
    "\"\"\"\n",
    "DON'T MODIFY ANYTHING IN THIS CELL THAT IS BELOW THIS LINE\n",
    "\"\"\"\n",
    "from urllib.request import urlretrieve\n",
    "from os.path import isfile, isdir\n",
    "from tqdm import tqdm\n",
    "import problem_unittests as tests\n",
    "import tarfile\n",
    "\n",
    "cifar10_dataset_folder_path = 'cifar-10-batches-py'\n",
    "\n",
    "# Use Floyd's cifar-10 dataset if present\n",
    "floyd_cifar10_location = '/input/cifar-10/python.tar.gz'\n",
    "if isfile(floyd_cifar10_location):\n",
    "    tar_gz_path = floyd_cifar10_location\n",
    "else:\n",
    "    tar_gz_path = 'cifar-10-python.tar.gz'\n",
    "\n",
    "class DLProgress(tqdm):\n",
    "    last_block = 0\n",
    "\n",
    "    def hook(self, block_num=1, block_size=1, total_size=None):\n",
    "        self.total = total_size\n",
    "        self.update((block_num - self.last_block) * block_size)\n",
    "        self.last_block = block_num\n",
    "\n",
    "if not isfile(tar_gz_path):\n",
    "    with DLProgress(unit='B', unit_scale=True, miniters=1, desc='CIFAR-10 Dataset') as pbar:\n",
    "        urlretrieve(\n",
    "            'https://www.cs.toronto.edu/~kriz/cifar-10-python.tar.gz',\n",
    "            tar_gz_path,\n",
    "            pbar.hook)\n",
    "\n",
    "if not isdir(cifar10_dataset_folder_path):\n",
    "    with tarfile.open(tar_gz_path) as tar:\n",
    "        tar.extractall()\n",
    "        tar.close()\n",
    "\n",
    "\n",
    "tests.test_folder_path(cifar10_dataset_folder_path)"
   ]
  },
  {
   "cell_type": "markdown",
   "metadata": {},
   "source": [
    "## Explore the Data\n",
    "The dataset is broken into batches to prevent your machine from running out of memory.  The CIFAR-10 dataset consists of 5 batches, named `data_batch_1`, `data_batch_2`, etc.. Each batch contains the labels and images that are one of the following:\n",
    "* airplane\n",
    "* automobile\n",
    "* bird\n",
    "* cat\n",
    "* deer\n",
    "* dog\n",
    "* frog\n",
    "* horse\n",
    "* ship\n",
    "* truck\n",
    "\n",
    "Understanding a dataset is part of making predictions on the data.  Play around with the code cell below by changing the `batch_id` and `sample_id`. The `batch_id` is the id for a batch (1-5). The `sample_id` is the id for a image and label pair in the batch.\n",
    "\n",
    "Ask yourself \"What are all possible labels?\", \"What is the range of values for the image data?\", \"Are the labels in order or random?\".  Answers to questions like these will help you preprocess the data and end up with better predictions."
   ]
  },
  {
   "cell_type": "code",
   "execution_count": 3,
   "metadata": {
    "collapsed": false
   },
   "outputs": [
    {
     "name": "stdout",
     "output_type": "stream",
     "text": [
      "\n",
      "Stats of batch 5:\n",
      "Samples: 10000\n",
      "Label Counts: {0: 1014, 1: 1014, 2: 952, 3: 1016, 4: 997, 5: 1025, 6: 980, 7: 977, 8: 1003, 9: 1022}\n",
      "First 20 Labels: [1, 8, 5, 1, 5, 7, 4, 3, 8, 2, 7, 2, 0, 1, 5, 9, 6, 2, 0, 8]\n",
      "\n",
      "Example of Image 6:\n",
      "Image - Min Value: 12 Max Value: 188\n",
      "Image - Shape: (32, 32, 3)\n",
      "Label - Label Id: 4 Name: deer\n"
     ]
    },
    {
     "data": {
      "image/png": "[encoded data removed]",
      "text/plain": [
       "<matplotlib.figure.Figure at 0x121202a90>"
      ]
     },
     "metadata": {
      "image/png": {
       "height": 250,
       "width": 253
      }
     },
     "output_type": "display_data"
    }
   ],
   "source": [
    "%matplotlib inline\n",
    "%config InlineBackend.figure_format = 'retina'\n",
    "\n",
    "import helper\n",
    "import numpy as np\n",
    "\n",
    "# Explore the dataset\n",
    "batch_id = 5\n",
    "sample_id = 6\n",
    "helper.display_stats(cifar10_dataset_folder_path, batch_id, sample_id)"
   ]
  },
  {
   "cell_type": "markdown",
   "metadata": {},
   "source": [
    "## Implement Preprocess Functions\n",
    "### Normalize\n",
    "In the cell below, implement the `normalize` function to take in image data, `x`, and return it as a normalized Numpy array. The values should be in the range of 0 to 1, inclusive.  The return object should be the same shape as `x`."
   ]
  },
  {
   "cell_type": "code",
   "execution_count": 4,
   "metadata": {
    "collapsed": false
   },
   "outputs": [
    {
     "name": "stdout",
     "output_type": "stream",
     "text": [
      "Tests Passed\n"
     ]
    }
   ],
   "source": [
    "def normalize(x):\n",
    "    \"\"\"\n",
    "    Normalize a list of sample image data in the range of 0 to 1\n",
    "    : x: List of image data.  The image shape is (32, 32, 3)\n",
    "    : return: Numpy array of normalize data\n",
    "    \"\"\"\n",
    "    # TODO: Implement Function\n",
    "    x = x/255.0\n",
    "    return x\n",
    "\n",
    "\n",
    "\"\"\"\n",
    "DON'T MODIFY ANYTHING IN THIS CELL THAT IS BELOW THIS LINE\n",
    "\"\"\"\n",
    "tests.test_normalize(normalize)"
   ]
  },
  {
   "cell_type": "markdown",
   "metadata": {},
   "source": [
    "### One-hot encode\n",
    "Just like the previous code cell, you'll be implementing a function for preprocessing.  This time, you'll implement the `one_hot_encode` function. The input, `x`, are a list of labels.  Implement the function to return the list of labels as One-Hot encoded Numpy array.  The possible values for labels are 0 to 9. The one-hot encoding function should return the same encoding for each value between each call to `one_hot_encode`.  Make sure to save the map of encodings outside the function.\n",
    "\n",
    "Hint: Don't reinvent the wheel."
   ]
  },
  {
   "cell_type": "code",
   "execution_count": 5,
   "metadata": {
    "collapsed": false
   },
   "outputs": [
    {
     "name": "stdout",
     "output_type": "stream",
     "text": [
      "Tests Passed\n"
     ]
    }
   ],
   "source": [
    "def one_hot_encode(x):\n",
    "    \"\"\"\n",
    "    One hot encode a list of sample labels. Return a one-hot encoded vector for each label.\n",
    "    : x: List of sample Labels\n",
    "    : return: Numpy array of one-hot encoded labels\n",
    "    \"\"\"\n",
    "    # TODO: Implement Function\n",
    "    rst = np.zeros([len(x), 10])\n",
    "    rst[range(len(x)),x] = 1\n",
    "    return rst\n",
    "\n",
    "\"\"\"\n",
    "DON'T MODIFY ANYTHING IN THIS CELL THAT IS BELOW THIS LINE\n",
    "\"\"\"\n",
    "tests.test_one_hot_encode(one_hot_encode)"
   ]
  },
  {
   "cell_type": "markdown",
   "metadata": {},
   "source": [
    "### Randomize Data\n",
    "As you saw from exploring the data above, the order of the samples are randomized.  It doesn't hurt to randomize it again, but you don't need to for this dataset."
   ]
  },
  {
   "cell_type": "markdown",
   "metadata": {},
   "source": [
    "## Preprocess all the data and save it\n",
    "Running the code cell below will preprocess all the CIFAR-10 data and save it to file. The code below also uses 10% of the training data for validation."
   ]
  },
  {
   "cell_type": "code",
   "execution_count": 6,
   "metadata": {
    "collapsed": false
   },
   "outputs": [],
   "source": [
    "\"\"\"\n",
    "DON'T MODIFY ANYTHING IN THIS CELL\n",
    "\"\"\"\n",
    "# Preprocess Training, Validation, and Testing Data\n",
    "helper.preprocess_and_save_data(cifar10_dataset_folder_path, normalize, one_hot_encode)"
   ]
  },
  {
   "cell_type": "markdown",
   "metadata": {},
   "source": [
    "# Check Point\n",
    "This is your first checkpoint.  If you ever decide to come back to this notebook or have to restart the notebook, you can start from here.  The preprocessed data has been saved to disk."
   ]
  },
  {
   "cell_type": "code",
   "execution_count": 7,
   "metadata": {
    "collapsed": true
   },
   "outputs": [],
   "source": [
    "\"\"\"\n",
    "DON'T MODIFY ANYTHING IN THIS CELL\n",
    "\"\"\"\n",
    "import pickle\n",
    "import problem_unittests as tests\n",
    "import helper\n",
    "\n",
    "# Load the Preprocessed Validation data\n",
    "valid_features, valid_labels = pickle.load(open('preprocess_validation.p', mode='rb'))"
   ]
  },
  {
   "cell_type": "markdown",
   "metadata": {},
   "source": [
    "## Build the network\n",
    "For the neural network, you'll build each layer into a function.  Most of the code you've seen has been outside of functions. To test your code more thoroughly, we require that you put each layer in a function.  This allows us to give you better feedback and test for simple mistakes using our unittests before you submit your project.\n",
    "\n",
    ">**Note:** If you're finding it hard to dedicate enough time for this course each week, we've provided a small shortcut to this part of the project. In the next couple of problems, you'll have the option to use classes from the [TensorFlow Layers](https://www.tensorflow.org/api_docs/python/tf/layers) or [TensorFlow Layers (contrib)](https://www.tensorflow.org/api_guides/python/contrib.layers) packages to build each layer, except the layers you build in the \"Convolutional and Max Pooling Layer\" section.  TF Layers is similar to Keras's and TFLearn's abstraction to layers, so it's easy to pickup.\n",
    "\n",
    ">However, if you would like to get the most out of this course, try to solve all the problems _without_ using anything from the TF Layers packages. You **can** still use classes from other packages that happen to have the same name as ones you find in TF Layers! For example, instead of using the TF Layers version of the `conv2d` class, [tf.layers.conv2d](https://www.tensorflow.org/api_docs/python/tf/layers/conv2d), you would want to use the TF Neural Network version of `conv2d`, [tf.nn.conv2d](https://www.tensorflow.org/api_docs/python/tf/nn/conv2d). \n",
    "\n",
    "Let's begin!\n",
    "\n",
    "### Input\n",
    "The neural network needs to read the image data, one-hot encoded labels, and dropout keep probability. Implement the following functions\n",
    "* Implement `neural_net_image_input`\n",
    " * Return a [TF Placeholder](https://www.tensorflow.org/api_docs/python/tf/placeholder)\n",
    " * Set the shape using `image_shape` with batch size set to `None`.\n",
    " * Name the TensorFlow placeholder \"x\" using the TensorFlow `name` parameter in the [TF Placeholder](https://www.tensorflow.org/api_docs/python/tf/placeholder).\n",
    "* Implement `neural_net_label_input`\n",
    " * Return a [TF Placeholder](https://www.tensorflow.org/api_docs/python/tf/placeholder)\n",
    " * Set the shape using `n_classes` with batch size set to `None`.\n",
    " * Name the TensorFlow placeholder \"y\" using the TensorFlow `name` parameter in the [TF Placeholder](https://www.tensorflow.org/api_docs/python/tf/placeholder).\n",
    "* Implement `neural_net_keep_prob_input`\n",
    " * Return a [TF Placeholder](https://www.tensorflow.org/api_docs/python/tf/placeholder) for dropout keep probability.\n",
    " * Name the TensorFlow placeholder \"keep_prob\" using the TensorFlow `name` parameter in the [TF Placeholder](https://www.tensorflow.org/api_docs/python/tf/placeholder).\n",
    "\n",
    "These names will be used at the end of the project to load your saved model.\n",
    "\n",
    "Note: `None` for shapes in TensorFlow allow for a dynamic size."
   ]
  },
  {
   "cell_type": "code",
   "execution_count": 23,
   "metadata": {
    "collapsed": true
   },
   "outputs": [],
   "source": [
    "x = tf.placeholder(tf.float32, shape=[None]+list([2,3,3]), name=\"x\")"
   ]
  },
  {
   "cell_type": "code",
   "execution_count": 32,
   "metadata": {
    "collapsed": false
   },
   "outputs": [
    {
     "data": {
      "text/plain": [
       "tensorflow.python.framework.tensor_shape.Dimension"
      ]
     },
     "execution_count": 32,
     "metadata": {},
     "output_type": "execute_result"
    }
   ],
   "source": [
    "type(x.shape[1])"
   ]
  },
  {
   "cell_type": "code",
   "execution_count": 33,
   "metadata": {
    "collapsed": false
   },
   "outputs": [
    {
     "data": {
      "text/plain": [
       "[None, 2, 3, 3]"
      ]
     },
     "execution_count": 33,
     "metadata": {},
     "output_type": "execute_result"
    }
   ],
   "source": [
    "x.get_shape().as_list()"
   ]
  },
  {
   "cell_type": "code",
   "execution_count": 22,
   "metadata": {
    "collapsed": false
   },
   "outputs": [
    {
     "name": "stdout",
     "output_type": "stream",
     "text": [
      "(32, 32, 3)\n",
      "Image Input Tests Passed.\n",
      "Label Input Tests Passed.\n",
      "Keep Prob Tests Passed.\n"
     ]
    }
   ],
   "source": [
    "import tensorflow as tf\n",
    "\n",
    "def neural_net_image_input(image_shape):\n",
    "    \"\"\"\n",
    "    Return a Tensor for a batch of image input\n",
    "    : image_shape: Shape of the images\n",
    "    : return: Tensor for image input.\n",
    "    \"\"\"\n",
    "    # TODO: Implement Function\n",
    "    print (image_shape)\n",
    "    return tf.placeholder(tf.float32, shape=[None]+list(image_shape), name=\"x\")\n",
    "\n",
    "\n",
    "def neural_net_label_input(n_classes):\n",
    "    \"\"\"\n",
    "    Return a Tensor for a batch of label input\n",
    "    : n_classes: Number of classes\n",
    "    : return: Tensor for label input.\n",
    "    \"\"\"\n",
    "    # TODO: Implement Function\n",
    "    return tf.placeholder(tf.float32, shape=[None, n_classes], name=\"y\")\n",
    "\n",
    "\n",
    "def neural_net_keep_prob_input():\n",
    "    \"\"\"\n",
    "    Return a Tensor for keep probability\n",
    "    : return: Tensor for keep probability.\n",
    "    \"\"\"\n",
    "    # TODO: Implement Function\n",
    "    return tf.placeholder(tf.float32, name=\"keep_prob\")\n",
    "\n",
    "\n",
    "\"\"\"\n",
    "DON'T MODIFY ANYTHING IN THIS CELL THAT IS BELOW THIS LINE\n",
    "\"\"\"\n",
    "tf.reset_default_graph()\n",
    "tests.test_nn_image_inputs(neural_net_image_input)\n",
    "tests.test_nn_label_inputs(neural_net_label_input)\n",
    "tests.test_nn_keep_prob_inputs(neural_net_keep_prob_input)"
   ]
  },
  {
   "cell_type": "markdown",
   "metadata": {},
   "source": [
    "### Convolution and Max Pooling Layer\n",
    "Convolution layers have a lot of success with images. For this code cell, you should implement the function `conv2d_maxpool` to apply convolution then max pooling:\n",
    "* Create the weight and bias using `conv_ksize`, `conv_num_outputs` and the shape of `x_tensor`.\n",
    "* Apply a convolution to `x_tensor` using weight and `conv_strides`.\n",
    " * We recommend you use same padding, but you're welcome to use any padding.\n",
    "* Add bias\n",
    "* Add a nonlinear activation to the convolution.\n",
    "* Apply Max Pooling using `pool_ksize` and `pool_strides`.\n",
    " * We recommend you use same padding, but you're welcome to use any padding.\n",
    "\n",
    "**Note:** You **can't** use [TensorFlow Layers](https://www.tensorflow.org/api_docs/python/tf/layers) or [TensorFlow Layers (contrib)](https://www.tensorflow.org/api_guides/python/contrib.layers) for **this** layer, but you can still use TensorFlow's [Neural Network](https://www.tensorflow.org/api_docs/python/tf/nn) package. You may still use the shortcut option for all the **other** layers."
   ]
  },
  {
   "cell_type": "code",
   "execution_count": 88,
   "metadata": {
    "collapsed": false
   },
   "outputs": [
    {
     "name": "stdout",
     "output_type": "stream",
     "text": [
      "Tests Passed\n"
     ]
    }
   ],
   "source": [
    "def conv2d_maxpool(x_tensor, conv_num_outputs, conv_ksize, conv_strides, pool_ksize, pool_strides):\n",
    "    \"\"\"\n",
    "    Apply convolution then max pooling to x_tensor\n",
    "    :param x_tensor: TensorFlow Tensor\n",
    "    :param conv_num_outputs: Number of outputs for the convolutional layer\n",
    "    :param conv_ksize: kernal size 2-D Tuple for the convolutional layer\n",
    "    :param conv_strides: Stride 2-D Tuple for convolution\n",
    "    :param pool_ksize: kernal size 2-D Tuple for pool\n",
    "    :param pool_strides: Stride 2-D Tuple for pool\n",
    "    : return: A tensor that represents convolution and max pooling of x_tensor\n",
    "    \"\"\"\n",
    "    # TODO: Implement Function\n",
    "    # construct variable\n",
    "    filter_size = list(conv_ksize) + [x_tensor.get_shape().as_list()[3]] + [conv_num_outputs]\n",
    "    weight = tf.Variable(tf.truncated_normal(filter_size, stddev=1.0/np.sqrt(np.prod(filter_size[:-1]))))\n",
    "    bias = tf.Variable(tf.truncated_normal([conv_num_outputs]))\n",
    "    conv_stride = [1] + list(conv_strides) + [1]\n",
    "    # conv \n",
    "    conv = tf.nn.conv2d(x_tensor, weight, conv_stride, padding=\"SAME\")\n",
    "    conv = tf.nn.bias_add(conv, bias)\n",
    "    # activation\n",
    "    acti = tf.nn.relu(conv)\n",
    "    # maxpool\n",
    "    pool = tf.nn.max_pool(acti, [1]+list(pool_ksize)+[1], [1]+list(pool_strides)+[1], padding=\"SAME\")\n",
    "    return pool\n",
    "\n",
    "\n",
    "\"\"\"\n",
    "DON'T MODIFY ANYTHING IN THIS CELL THAT IS BELOW THIS LINE\n",
    "\"\"\"\n",
    "tests.test_con_pool(conv2d_maxpool)"
   ]
  },
  {
   "cell_type": "markdown",
   "metadata": {},
   "source": [
    "### Flatten Layer\n",
    "Implement the `flatten` function to change the dimension of `x_tensor` from a 4-D tensor to a 2-D tensor.  The output should be the shape (*Batch Size*, *Flattened Image Size*). Shortcut option: you can use classes from the [TensorFlow Layers](https://www.tensorflow.org/api_docs/python/tf/layers) or [TensorFlow Layers (contrib)](https://www.tensorflow.org/api_guides/python/contrib.layers) packages for this layer. For more of a challenge, only use other TensorFlow packages."
   ]
  },
  {
   "cell_type": "code",
   "execution_count": 89,
   "metadata": {
    "collapsed": false
   },
   "outputs": [
    {
     "name": "stdout",
     "output_type": "stream",
     "text": [
      "Tests Passed\n"
     ]
    }
   ],
   "source": [
    "def flatten(x_tensor):\n",
    "    \"\"\"\n",
    "    Flatten x_tensor to (Batch Size, Flattened Image Size)\n",
    "    : x_tensor: A tensor of size (Batch Size, ...), where ... are the image dimensions.\n",
    "    : return: A tensor of size (Batch Size, Flattened Image Size).\n",
    "    \"\"\"\n",
    "    # TODO: Implement Function\n",
    "    shape = x_tensor.get_shape().as_list()\n",
    "    dim = np.prod(shape[1:])\n",
    "    return tf.reshape(x_tensor, [-1, dim])\n",
    "\n",
    "\"\"\"\n",
    "DON'T MODIFY ANYTHING IN THIS CELL THAT IS BELOW THIS LINE\n",
    "\"\"\"\n",
    "tests.test_flatten(flatten)"
   ]
  },
  {
   "cell_type": "markdown",
   "metadata": {},
   "source": [
    "### Fully-Connected Layer\n",
    "Implement the `fully_conn` function to apply a fully connected layer to `x_tensor` with the shape (*Batch Size*, *num_outputs*). Shortcut option: you can use classes from the [TensorFlow Layers](https://www.tensorflow.org/api_docs/python/tf/layers) or [TensorFlow Layers (contrib)](https://www.tensorflow.org/api_guides/python/contrib.layers) packages for this layer. For more of a challenge, only use other TensorFlow packages."
   ]
  },
  {
   "cell_type": "code",
   "execution_count": 90,
   "metadata": {
    "collapsed": false
   },
   "outputs": [
    {
     "name": "stdout",
     "output_type": "stream",
     "text": [
      "Tests Passed\n"
     ]
    }
   ],
   "source": [
    "def fully_conn(x_tensor, num_outputs):\n",
    "    \"\"\"\n",
    "    Apply a fully connected layer to x_tensor using weight and bias\n",
    "    : x_tensor: A 2-D tensor where the first dimension is batch size.\n",
    "    : num_outputs: The number of output that the new tensor should be.\n",
    "    : return: A 2-D tensor where the second dimension is num_outputs.\n",
    "    \"\"\"\n",
    "    # TODO: Implement Function\n",
    "    shape = x_tensor.get_shape().as_list()\n",
    "    weight = tf.Variable(tf.truncated_normal([shape[1], num_outputs], stddev=1.0/np.sqrt(shape[1])))\n",
    "    bias = tf.Variable(tf.truncated_normal([num_outputs]))\n",
    "    return tf.nn.relu(tf.nn.bias_add(tf.matmul(x_tensor, weight), bias))\n",
    "\n",
    "\"\"\"\n",
    "DON'T MODIFY ANYTHING IN THIS CELL THAT IS BELOW THIS LINE\n",
    "\"\"\"\n",
    "tests.test_fully_conn(fully_conn)"
   ]
  },
  {
   "cell_type": "markdown",
   "metadata": {},
   "source": [
    "### Output Layer\n",
    "Implement the `output` function to apply a fully connected layer to `x_tensor` with the shape (*Batch Size*, *num_outputs*). Shortcut option: you can use classes from the [TensorFlow Layers](https://www.tensorflow.org/api_docs/python/tf/layers) or [TensorFlow Layers (contrib)](https://www.tensorflow.org/api_guides/python/contrib.layers) packages for this layer. For more of a challenge, only use other TensorFlow packages.\n",
    "\n",
    "**Note:** Activation, softmax, or cross entropy should **not** be applied to this."
   ]
  },
  {
   "cell_type": "code",
   "execution_count": 91,
   "metadata": {
    "collapsed": false
   },
   "outputs": [
    {
     "name": "stdout",
     "output_type": "stream",
     "text": [
      "Tests Passed\n"
     ]
    }
   ],
   "source": [
    "def output(x_tensor, num_outputs):\n",
    "    \"\"\"\n",
    "    Apply a output layer to x_tensor using weight and bias\n",
    "    : x_tensor: A 2-D tensor where the first dimension is batch size.\n",
    "    : num_outputs: The number of output that the new tensor should be.\n",
    "    : return: A 2-D tensor where the second dimension is num_outputs.\n",
    "    \"\"\"\n",
    "    # TODO: Implement Function\n",
    "    shape = x_tensor.get_shape().as_list()\n",
    "    weight = tf.Variable(tf.truncated_normal([shape[1], num_outputs], stddev=1.0/np.sqrt(shape[1])))\n",
    "    bias = tf.Variable(tf.truncated_normal([num_outputs]))\n",
    "    return tf.nn.bias_add(tf.matmul(x_tensor, weight), bias)\n",
    "\n",
    "\n",
    "\"\"\"\n",
    "DON'T MODIFY ANYTHING IN THIS CELL THAT IS BELOW THIS LINE\n",
    "\"\"\"\n",
    "tests.test_output(output)"
   ]
  },
  {
   "cell_type": "markdown",
   "metadata": {},
   "source": [
    "### Create Convolutional Model\n",
    "Implement the function `conv_net` to create a convolutional neural network model. The function takes in a batch of images, `x`, and outputs logits.  Use the layers you created above to create this model:\n",
    "\n",
    "* Apply 1, 2, or 3 Convolution and Max Pool layers\n",
    "* Apply a Flatten Layer\n",
    "* Apply 1, 2, or 3 Fully Connected Layers\n",
    "* Apply an Output Layer\n",
    "* Return the output\n",
    "* Apply [TensorFlow's Dropout](https://www.tensorflow.org/api_docs/python/tf/nn/dropout) to one or more layers in the model using `keep_prob`. "
   ]
  },
  {
   "cell_type": "code",
   "execution_count": 92,
   "metadata": {
    "collapsed": false
   },
   "outputs": [
    {
     "name": "stdout",
     "output_type": "stream",
     "text": [
      "(32, 32, 3)\n",
      "Neural Network Built!\n"
     ]
    }
   ],
   "source": [
    "def conv_net(x, keep_prob):\n",
    "    \"\"\"\n",
    "    Create a convolutional neural network model\n",
    "    : x: Placeholder tensor that holds image data.\n",
    "    : keep_prob: Placeholder tensor that hold dropout keep probability.\n",
    "    : return: Tensor that represents logits\n",
    "    \"\"\"\n",
    "    # TODO: Apply 1, 2, or 3 Convolution and Max Pool layers\n",
    "    #    Play around with different number of outputs, kernel size and stride\n",
    "    # Function Definition from Above:\n",
    "    #    conv2d_maxpool(x_tensor, conv_num_outputs, conv_ksize, conv_strides, pool_ksize, pool_strides)\n",
    "    conv1 = tf.nn.dropout(conv2d_maxpool(x, 64, (3,3), (1,1), (2,2), (2,2)), keep_prob)\n",
    "    conv2 = tf.nn.dropout(conv2d_maxpool(conv1, 32, (3,3), (1,1), (2,2), (2,2)), keep_prob)\n",
    "    # TODO: Apply a Flatten Layer\n",
    "    # Function Definition from Above:\n",
    "    #   flatten(x_tensor)\n",
    "    flat1 = tf.nn.dropout(flatten(conv2), keep_prob)\n",
    "\n",
    "    # TODO: Apply 1, 2, or 3 Fully Connected Layers\n",
    "    #    Play around with different number of outputs\n",
    "    # Function Definition from Above:\n",
    "    #   fully_conn(x_tensor, num_outputs)\n",
    "    f1 = tf.nn.dropout(fully_conn(flat1, 300), keep_prob)\n",
    "    f2 = tf.nn.dropout(fully_conn(f1, 100), keep_prob)\n",
    "    \n",
    "    # TODO: Apply an Output Layer\n",
    "    #    Set this to the number of classes\n",
    "    # Function Definition from Above:\n",
    "    #   output(x_tensor, num_outputs)\n",
    "    o1 = output(f2, 10)\n",
    "    \n",
    "    # TODO: return output\n",
    "    return o1\n",
    "\n",
    "\n",
    "\"\"\"\n",
    "DON'T MODIFY ANYTHING IN THIS CELL THAT IS BELOW THIS LINE\n",
    "\"\"\"\n",
    "\n",
    "##############################\n",
    "## Build the Neural Network ##\n",
    "##############################\n",
    "\n",
    "# Remove previous weights, bias, inputs, etc..\n",
    "tf.reset_default_graph()\n",
    "\n",
    "# Inputs\n",
    "x = neural_net_image_input((32, 32, 3))\n",
    "y = neural_net_label_input(10)\n",
    "keep_prob = neural_net_keep_prob_input()\n",
    "\n",
    "# Model\n",
    "logits = conv_net(x, keep_prob)\n",
    "\n",
    "# Name logits Tensor, so that is can be loaded from disk after training\n",
    "logits = tf.identity(logits, name='logits')\n",
    "\n",
    "# Loss and Optimizer\n",
    "cost = tf.reduce_mean(tf.nn.softmax_cross_entropy_with_logits(logits=logits, labels=y))\n",
    "optimizer = tf.train.AdamOptimizer().minimize(cost)\n",
    "\n",
    "# Accuracy\n",
    "correct_pred = tf.equal(tf.argmax(logits, 1), tf.argmax(y, 1))\n",
    "accuracy = tf.reduce_mean(tf.cast(correct_pred, tf.float32), name='accuracy')\n",
    "\n",
    "tests.test_conv_net(conv_net)"
   ]
  },
  {
   "cell_type": "markdown",
   "metadata": {},
   "source": [
    "## Train the Neural Network\n",
    "### Single Optimization\n",
    "Implement the function `train_neural_network` to do a single optimization.  The optimization should use `optimizer` to optimize in `session` with a `feed_dict` of the following:\n",
    "* `x` for image input\n",
    "* `y` for labels\n",
    "* `keep_prob` for keep probability for dropout\n",
    "\n",
    "This function will be called for each batch, so `tf.global_variables_initializer()` has already been called.\n",
    "\n",
    "Note: Nothing needs to be returned. This function is only optimizing the neural network."
   ]
  },
  {
   "cell_type": "code",
   "execution_count": 93,
   "metadata": {
    "collapsed": false
   },
   "outputs": [
    {
     "name": "stdout",
     "output_type": "stream",
     "text": [
      "Tests Passed\n"
     ]
    }
   ],
   "source": [
    "def train_neural_network(session, optimizer, keep_probability, feature_batch, label_batch):\n",
    "    \"\"\"\n",
    "    Optimize the session on a batch of images and labels\n",
    "    : session: Current TensorFlow session\n",
    "    : optimizer: TensorFlow optimizer function\n",
    "    : keep_probability: keep probability\n",
    "    : feature_batch: Batch of Numpy image data\n",
    "    : label_batch: Batch of Numpy label data\n",
    "    \"\"\"\n",
    "    session.run(optimizer, feed_dict={\n",
    "        x: feature_batch,\n",
    "        y: label_batch,\n",
    "        keep_prob: keep_probability\n",
    "    })\n",
    "    \n",
    "    \n",
    "\n",
    "\n",
    "\"\"\"\n",
    "DON'T MODIFY ANYTHING IN THIS CELL THAT IS BELOW THIS LINE\n",
    "\"\"\"\n",
    "tests.test_train_nn(train_neural_network)"
   ]
  },
  {
   "cell_type": "markdown",
   "metadata": {},
   "source": [
    "### Show Stats\n",
    "Implement the function `print_stats` to print loss and validation accuracy.  Use the global variables `valid_features` and `valid_labels` to calculate validation accuracy.  Use a keep probability of `1.0` to calculate the loss and validation accuracy."
   ]
  },
  {
   "cell_type": "code",
   "execution_count": 94,
   "metadata": {
    "collapsed": false
   },
   "outputs": [],
   "source": [
    "def print_stats(session, feature_batch, label_batch, cost, accuracy):\n",
    "    \"\"\"\n",
    "    Print information about loss and validation accuracy\n",
    "    : session: Current TensorFlow session\n",
    "    : feature_batch: Batch of Numpy image data\n",
    "    : label_batch: Batch of Numpy label data\n",
    "    : cost: TensorFlow cost function\n",
    "    : accuracy: TensorFlow accuracy function\n",
    "    \"\"\"\n",
    "    # TODO: Implement Function\n",
    "    loss = session.run(cost, feed_dict={\n",
    "        x: feature_batch,\n",
    "        y: label_batch,\n",
    "        keep_prob: 1\n",
    "    })\n",
    "    val_accuracy = session.run(accuracy, feed_dict={\n",
    "        x: valid_features,\n",
    "        y: valid_labels,\n",
    "        keep_prob: 1\n",
    "    })\n",
    "    print('Loss: {:>10.4f} Validation Accuracy: {:.6f}'.format(\n",
    "                loss,\n",
    "                val_accuracy))"
   ]
  },
  {
   "cell_type": "markdown",
   "metadata": {},
   "source": [
    "### Hyperparameters\n",
    "Tune the following parameters:\n",
    "* Set `epochs` to the number of iterations until the network stops learning or start overfitting\n",
    "* Set `batch_size` to the highest number that your machine has memory for.  Most people set them to common sizes of memory:\n",
    " * 64\n",
    " * 128\n",
    " * 256\n",
    " * ...\n",
    "* Set `keep_probability` to the probability of keeping a node using dropout"
   ]
  },
  {
   "cell_type": "code",
   "execution_count": 97,
   "metadata": {
    "collapsed": true
   },
   "outputs": [],
   "source": [
    "# TODO: Tune Parameters\n",
    "epochs = 50\n",
    "batch_size = 128\n",
    "keep_probability = 0.5"
   ]
  },
  {
   "cell_type": "markdown",
   "metadata": {},
   "source": [
    "### Train on a Single CIFAR-10 Batch\n",
    "Instead of training the neural network on all the CIFAR-10 batches of data, let's use a single batch. This should save time while you iterate on the model to get a better accuracy.  Once the final validation accuracy is 50% or greater, run the model on all the data in the next section."
   ]
  },
  {
   "cell_type": "code",
   "execution_count": 98,
   "metadata": {
    "collapsed": false
   },
   "outputs": [
    {
     "name": "stdout",
     "output_type": "stream",
     "text": [
      "Checking the Training on a Single Batch...\n",
      "Epoch  1, CIFAR-10 Batch 1:  Loss:     2.2689 Validation Accuracy: 0.151000\n",
      "Epoch  2, CIFAR-10 Batch 1:  Loss:     2.2955 Validation Accuracy: 0.208600\n",
      "Epoch  3, CIFAR-10 Batch 1:  Loss:     2.2796 Validation Accuracy: 0.247400\n",
      "Epoch  4, CIFAR-10 Batch 1:  Loss:     2.3067 Validation Accuracy: 0.260200\n",
      "Epoch  5, CIFAR-10 Batch 1:  Loss:     2.2547 Validation Accuracy: 0.280200\n",
      "Epoch  6, CIFAR-10 Batch 1:  Loss:     2.1534 Validation Accuracy: 0.311200\n",
      "Epoch  7, CIFAR-10 Batch 1:  Loss:     2.0693 Validation Accuracy: 0.348000\n",
      "Epoch  8, CIFAR-10 Batch 1:  Loss:     2.0378 Validation Accuracy: 0.366000\n",
      "Epoch  9, CIFAR-10 Batch 1:  Loss:     1.9636 Validation Accuracy: 0.386400\n",
      "Epoch 10, CIFAR-10 Batch 1:  Loss:     1.9284 Validation Accuracy: 0.402400\n",
      "Epoch 11, CIFAR-10 Batch 1:  Loss:     1.9273 Validation Accuracy: 0.396200\n",
      "Epoch 12, CIFAR-10 Batch 1:  Loss:     1.8222 Validation Accuracy: 0.413200\n",
      "Epoch 13, CIFAR-10 Batch 1:  Loss:     1.8225 Validation Accuracy: 0.417000\n",
      "Epoch 14, CIFAR-10 Batch 1:  Loss:     1.6762 Validation Accuracy: 0.434200\n",
      "Epoch 15, CIFAR-10 Batch 1:  Loss:     1.6946 Validation Accuracy: 0.432600\n",
      "Epoch 16, CIFAR-10 Batch 1:  Loss:     1.6214 Validation Accuracy: 0.440400\n",
      "Epoch 17, CIFAR-10 Batch 1:  Loss:     1.5318 Validation Accuracy: 0.454800\n",
      "Epoch 18, CIFAR-10 Batch 1:  Loss:     1.5695 Validation Accuracy: 0.453800\n",
      "Epoch 19, CIFAR-10 Batch 1:  Loss:     1.5709 Validation Accuracy: 0.457600\n",
      "Epoch 20, CIFAR-10 Batch 1:  Loss:     1.5146 Validation Accuracy: 0.462000\n",
      "Epoch 21, CIFAR-10 Batch 1:  Loss:     1.5112 Validation Accuracy: 0.461000\n",
      "Epoch 22, CIFAR-10 Batch 1:  Loss:     1.4610 Validation Accuracy: 0.473600\n",
      "Epoch 23, CIFAR-10 Batch 1:  Loss:     1.4777 Validation Accuracy: 0.470800\n",
      "Epoch 24, CIFAR-10 Batch 1:  Loss:     1.4328 Validation Accuracy: 0.482800\n",
      "Epoch 25, CIFAR-10 Batch 1:  Loss:     1.4420 Validation Accuracy: 0.475200\n",
      "Epoch 26, CIFAR-10 Batch 1:  Loss:     1.4425 Validation Accuracy: 0.483000\n",
      "Epoch 27, CIFAR-10 Batch 1:  Loss:     1.4229 Validation Accuracy: 0.477200\n",
      "Epoch 28, CIFAR-10 Batch 1:  Loss:     1.4015 Validation Accuracy: 0.480800\n",
      "Epoch 29, CIFAR-10 Batch 1:  Loss:     1.3254 Validation Accuracy: 0.492200\n",
      "Epoch 30, CIFAR-10 Batch 1:  Loss:     1.3178 Validation Accuracy: 0.491600\n",
      "Epoch 31, CIFAR-10 Batch 1:  Loss:     1.3484 Validation Accuracy: 0.490600\n",
      "Epoch 32, CIFAR-10 Batch 1:  Loss:     1.3197 Validation Accuracy: 0.493400\n",
      "Epoch 33, CIFAR-10 Batch 1:  Loss:     1.2308 Validation Accuracy: 0.493000\n",
      "Epoch 34, CIFAR-10 Batch 1:  Loss:     1.2776 Validation Accuracy: 0.506800\n",
      "Epoch 35, CIFAR-10 Batch 1:  Loss:     1.2552 Validation Accuracy: 0.497600\n",
      "Epoch 36, CIFAR-10 Batch 1:  Loss:     1.2656 Validation Accuracy: 0.495000\n",
      "Epoch 37, CIFAR-10 Batch 1:  Loss:     1.2370 Validation Accuracy: 0.498200\n",
      "Epoch 38, CIFAR-10 Batch 1:  Loss:     1.1913 Validation Accuracy: 0.500000\n",
      "Epoch 39, CIFAR-10 Batch 1:  Loss:     1.1410 Validation Accuracy: 0.506600\n",
      "Epoch 40, CIFAR-10 Batch 1:  Loss:     1.1632 Validation Accuracy: 0.496000\n",
      "Epoch 41, CIFAR-10 Batch 1:  Loss:     1.1607 Validation Accuracy: 0.509200\n",
      "Epoch 42, CIFAR-10 Batch 1:  Loss:     1.1444 Validation Accuracy: 0.522400\n",
      "Epoch 43, CIFAR-10 Batch 1:  Loss:     1.1299 Validation Accuracy: 0.520200\n",
      "Epoch 44, CIFAR-10 Batch 1:  Loss:     1.1393 Validation Accuracy: 0.521000\n",
      "Epoch 45, CIFAR-10 Batch 1:  Loss:     1.0818 Validation Accuracy: 0.511400\n",
      "Epoch 46, CIFAR-10 Batch 1:  Loss:     1.0866 Validation Accuracy: 0.514800\n",
      "Epoch 47, CIFAR-10 Batch 1:  Loss:     1.1002 Validation Accuracy: 0.520000\n",
      "Epoch 48, CIFAR-10 Batch 1:  Loss:     1.1028 Validation Accuracy: 0.522600\n",
      "Epoch 49, CIFAR-10 Batch 1:  Loss:     1.0722 Validation Accuracy: 0.526800\n",
      "Epoch 50, CIFAR-10 Batch 1:  Loss:     1.0966 Validation Accuracy: 0.522400\n"
     ]
    }
   ],
   "source": [
    "\"\"\"\n",
    "DON'T MODIFY ANYTHING IN THIS CELL\n",
    "\"\"\"\n",
    "print('Checking the Training on a Single Batch...')\n",
    "with tf.Session() as sess:\n",
    "    # Initializing the variables\n",
    "    sess.run(tf.global_variables_initializer())\n",
    "    \n",
    "    # Training cycle\n",
    "    for epoch in range(epochs):\n",
    "        batch_i = 1\n",
    "        for batch_features, batch_labels in helper.load_preprocess_training_batch(batch_i, batch_size):\n",
    "            train_neural_network(sess, optimizer, keep_probability, batch_features, batch_labels)\n",
    "        print('Epoch {:>2}, CIFAR-10 Batch {}:  '.format(epoch + 1, batch_i), end='')\n",
    "        print_stats(sess, batch_features, batch_labels, cost, accuracy)"
   ]
  },
  {
   "cell_type": "markdown",
   "metadata": {},
   "source": [
    "### Fully Train the Model\n",
    "Now that you got a good accuracy with a single CIFAR-10 batch, try it with all five batches."
   ]
  },
  {
   "cell_type": "code",
   "execution_count": 99,
   "metadata": {
    "collapsed": false,
    "scrolled": true
   },
   "outputs": [
    {
     "name": "stdout",
     "output_type": "stream",
     "text": [
      "Training...\n",
      "Epoch  1, CIFAR-10 Batch 1:  Loss:     2.3156 Validation Accuracy: 0.122400\n",
      "Epoch  1, CIFAR-10 Batch 2:  Loss:     2.2180 Validation Accuracy: 0.190000\n",
      "Epoch  1, CIFAR-10 Batch 3:  Loss:     2.0709 Validation Accuracy: 0.227000\n",
      "Epoch  1, CIFAR-10 Batch 4:  Loss:     1.9369 Validation Accuracy: 0.282000\n",
      "Epoch  1, CIFAR-10 Batch 5:  Loss:     1.8682 Validation Accuracy: 0.360200\n",
      "Epoch  2, CIFAR-10 Batch 1:  Loss:     2.0423 Validation Accuracy: 0.328600\n",
      "Epoch  2, CIFAR-10 Batch 2:  Loss:     1.9073 Validation Accuracy: 0.381600\n",
      "Epoch  2, CIFAR-10 Batch 3:  Loss:     1.6453 Validation Accuracy: 0.391800\n",
      "Epoch  2, CIFAR-10 Batch 4:  Loss:     1.6456 Validation Accuracy: 0.420400\n",
      "Epoch  2, CIFAR-10 Batch 5:  Loss:     1.7022 Validation Accuracy: 0.433200\n",
      "Epoch  3, CIFAR-10 Batch 1:  Loss:     1.7607 Validation Accuracy: 0.434400\n",
      "Epoch  3, CIFAR-10 Batch 2:  Loss:     1.6744 Validation Accuracy: 0.444600\n",
      "Epoch  3, CIFAR-10 Batch 3:  Loss:     1.3982 Validation Accuracy: 0.454400\n",
      "Epoch  3, CIFAR-10 Batch 4:  Loss:     1.5197 Validation Accuracy: 0.461600\n",
      "Epoch  3, CIFAR-10 Batch 5:  Loss:     1.6419 Validation Accuracy: 0.459400\n",
      "Epoch  4, CIFAR-10 Batch 1:  Loss:     1.6938 Validation Accuracy: 0.453400\n",
      "Epoch  4, CIFAR-10 Batch 2:  Loss:     1.5920 Validation Accuracy: 0.477000\n",
      "Epoch  4, CIFAR-10 Batch 3:  Loss:     1.3678 Validation Accuracy: 0.465000\n",
      "Epoch  4, CIFAR-10 Batch 4:  Loss:     1.4797 Validation Accuracy: 0.466800\n",
      "Epoch  4, CIFAR-10 Batch 5:  Loss:     1.5708 Validation Accuracy: 0.472400\n",
      "Epoch  5, CIFAR-10 Batch 1:  Loss:     1.5663 Validation Accuracy: 0.479800\n",
      "Epoch  5, CIFAR-10 Batch 2:  Loss:     1.5184 Validation Accuracy: 0.480800\n",
      "Epoch  5, CIFAR-10 Batch 3:  Loss:     1.2769 Validation Accuracy: 0.483200\n",
      "Epoch  5, CIFAR-10 Batch 4:  Loss:     1.3918 Validation Accuracy: 0.502600\n",
      "Epoch  5, CIFAR-10 Batch 5:  Loss:     1.5225 Validation Accuracy: 0.485200\n",
      "Epoch  6, CIFAR-10 Batch 1:  Loss:     1.5001 Validation Accuracy: 0.497200\n",
      "Epoch  6, CIFAR-10 Batch 2:  Loss:     1.5029 Validation Accuracy: 0.504800\n",
      "Epoch  6, CIFAR-10 Batch 3:  Loss:     1.2585 Validation Accuracy: 0.504200\n",
      "Epoch  6, CIFAR-10 Batch 4:  Loss:     1.3417 Validation Accuracy: 0.512800\n",
      "Epoch  6, CIFAR-10 Batch 5:  Loss:     1.4372 Validation Accuracy: 0.504800\n",
      "Epoch  7, CIFAR-10 Batch 1:  Loss:     1.4945 Validation Accuracy: 0.509000\n",
      "Epoch  7, CIFAR-10 Batch 2:  Loss:     1.4349 Validation Accuracy: 0.514000\n",
      "Epoch  7, CIFAR-10 Batch 3:  Loss:     1.2507 Validation Accuracy: 0.509000\n",
      "Epoch  7, CIFAR-10 Batch 4:  Loss:     1.3224 Validation Accuracy: 0.531600\n",
      "Epoch  7, CIFAR-10 Batch 5:  Loss:     1.4107 Validation Accuracy: 0.516200\n",
      "Epoch  8, CIFAR-10 Batch 1:  Loss:     1.3758 Validation Accuracy: 0.525400\n",
      "Epoch  8, CIFAR-10 Batch 2:  Loss:     1.4377 Validation Accuracy: 0.527800\n",
      "Epoch  8, CIFAR-10 Batch 3:  Loss:     1.1481 Validation Accuracy: 0.532400\n",
      "Epoch  8, CIFAR-10 Batch 4:  Loss:     1.2538 Validation Accuracy: 0.537600\n",
      "Epoch  8, CIFAR-10 Batch 5:  Loss:     1.3553 Validation Accuracy: 0.529200\n",
      "Epoch  9, CIFAR-10 Batch 1:  Loss:     1.3645 Validation Accuracy: 0.521600\n",
      "Epoch  9, CIFAR-10 Batch 2:  Loss:     1.3774 Validation Accuracy: 0.538400\n",
      "Epoch  9, CIFAR-10 Batch 3:  Loss:     1.1563 Validation Accuracy: 0.538800\n",
      "Epoch  9, CIFAR-10 Batch 4:  Loss:     1.2362 Validation Accuracy: 0.545400\n",
      "Epoch  9, CIFAR-10 Batch 5:  Loss:     1.3202 Validation Accuracy: 0.540000\n",
      "Epoch 10, CIFAR-10 Batch 1:  Loss:     1.3359 Validation Accuracy: 0.546600\n",
      "Epoch 10, CIFAR-10 Batch 2:  Loss:     1.3069 Validation Accuracy: 0.543600\n",
      "Epoch 10, CIFAR-10 Batch 3:  Loss:     1.1398 Validation Accuracy: 0.545200\n",
      "Epoch 10, CIFAR-10 Batch 4:  Loss:     1.2408 Validation Accuracy: 0.552600\n",
      "Epoch 10, CIFAR-10 Batch 5:  Loss:     1.2978 Validation Accuracy: 0.548400\n",
      "Epoch 11, CIFAR-10 Batch 1:  Loss:     1.2900 Validation Accuracy: 0.537800\n",
      "Epoch 11, CIFAR-10 Batch 2:  Loss:     1.3241 Validation Accuracy: 0.557000\n",
      "Epoch 11, CIFAR-10 Batch 3:  Loss:     1.1182 Validation Accuracy: 0.552000\n",
      "Epoch 11, CIFAR-10 Batch 4:  Loss:     1.1384 Validation Accuracy: 0.562000\n",
      "Epoch 11, CIFAR-10 Batch 5:  Loss:     1.2928 Validation Accuracy: 0.552800\n",
      "Epoch 12, CIFAR-10 Batch 1:  Loss:     1.2864 Validation Accuracy: 0.555400\n",
      "Epoch 12, CIFAR-10 Batch 2:  Loss:     1.2905 Validation Accuracy: 0.559600\n",
      "Epoch 12, CIFAR-10 Batch 3:  Loss:     1.1086 Validation Accuracy: 0.556800\n",
      "Epoch 12, CIFAR-10 Batch 4:  Loss:     1.1485 Validation Accuracy: 0.567000\n",
      "Epoch 12, CIFAR-10 Batch 5:  Loss:     1.2178 Validation Accuracy: 0.564600\n",
      "Epoch 13, CIFAR-10 Batch 1:  Loss:     1.2409 Validation Accuracy: 0.559200\n",
      "Epoch 13, CIFAR-10 Batch 2:  Loss:     1.2783 Validation Accuracy: 0.568800\n",
      "Epoch 13, CIFAR-10 Batch 3:  Loss:     1.0614 Validation Accuracy: 0.559000\n",
      "Epoch 13, CIFAR-10 Batch 4:  Loss:     1.1428 Validation Accuracy: 0.573400\n",
      "Epoch 13, CIFAR-10 Batch 5:  Loss:     1.1840 Validation Accuracy: 0.568200\n",
      "Epoch 14, CIFAR-10 Batch 1:  Loss:     1.1482 Validation Accuracy: 0.575200\n",
      "Epoch 14, CIFAR-10 Batch 2:  Loss:     1.2616 Validation Accuracy: 0.573400\n",
      "Epoch 14, CIFAR-10 Batch 3:  Loss:     0.9911 Validation Accuracy: 0.578000\n",
      "Epoch 14, CIFAR-10 Batch 4:  Loss:     1.1030 Validation Accuracy: 0.579600\n",
      "Epoch 14, CIFAR-10 Batch 5:  Loss:     1.1992 Validation Accuracy: 0.570400\n",
      "Epoch 15, CIFAR-10 Batch 1:  Loss:     1.1174 Validation Accuracy: 0.580200\n",
      "Epoch 15, CIFAR-10 Batch 2:  Loss:     1.2674 Validation Accuracy: 0.586000\n",
      "Epoch 15, CIFAR-10 Batch 3:  Loss:     1.0323 Validation Accuracy: 0.578200\n",
      "Epoch 15, CIFAR-10 Batch 4:  Loss:     1.1010 Validation Accuracy: 0.581400\n",
      "Epoch 15, CIFAR-10 Batch 5:  Loss:     1.1622 Validation Accuracy: 0.578800\n",
      "Epoch 16, CIFAR-10 Batch 1:  Loss:     1.0560 Validation Accuracy: 0.577000\n",
      "Epoch 16, CIFAR-10 Batch 2:  Loss:     1.2380 Validation Accuracy: 0.591200\n",
      "Epoch 16, CIFAR-10 Batch 3:  Loss:     0.9787 Validation Accuracy: 0.583400\n",
      "Epoch 16, CIFAR-10 Batch 4:  Loss:     1.0605 Validation Accuracy: 0.590600\n",
      "Epoch 16, CIFAR-10 Batch 5:  Loss:     1.1385 Validation Accuracy: 0.583000\n",
      "Epoch 17, CIFAR-10 Batch 1:  Loss:     1.1025 Validation Accuracy: 0.589400\n",
      "Epoch 17, CIFAR-10 Batch 2:  Loss:     1.1789 Validation Accuracy: 0.572800\n",
      "Epoch 17, CIFAR-10 Batch 3:  Loss:     0.9921 Validation Accuracy: 0.598000\n",
      "Epoch 17, CIFAR-10 Batch 4:  Loss:     1.0478 Validation Accuracy: 0.589400\n",
      "Epoch 17, CIFAR-10 Batch 5:  Loss:     1.1329 Validation Accuracy: 0.588400\n",
      "Epoch 18, CIFAR-10 Batch 1:  Loss:     1.0974 Validation Accuracy: 0.595600\n",
      "Epoch 18, CIFAR-10 Batch 2:  Loss:     1.1271 Validation Accuracy: 0.597200\n",
      "Epoch 18, CIFAR-10 Batch 3:  Loss:     0.9958 Validation Accuracy: 0.592000\n",
      "Epoch 18, CIFAR-10 Batch 4:  Loss:     1.0067 Validation Accuracy: 0.601200\n",
      "Epoch 18, CIFAR-10 Batch 5:  Loss:     1.1130 Validation Accuracy: 0.596800\n",
      "Epoch 19, CIFAR-10 Batch 1:  Loss:     1.0776 Validation Accuracy: 0.592400\n",
      "Epoch 19, CIFAR-10 Batch 2:  Loss:     1.2199 Validation Accuracy: 0.602200\n",
      "Epoch 19, CIFAR-10 Batch 3:  Loss:     1.0010 Validation Accuracy: 0.597800\n",
      "Epoch 19, CIFAR-10 Batch 4:  Loss:     0.9925 Validation Accuracy: 0.608000\n",
      "Epoch 19, CIFAR-10 Batch 5:  Loss:     1.1438 Validation Accuracy: 0.599600\n",
      "Epoch 20, CIFAR-10 Batch 1:  Loss:     1.0909 Validation Accuracy: 0.593400\n",
      "Epoch 20, CIFAR-10 Batch 2:  Loss:     1.1767 Validation Accuracy: 0.598800\n",
      "Epoch 20, CIFAR-10 Batch 3:  Loss:     0.9608 Validation Accuracy: 0.595200\n",
      "Epoch 20, CIFAR-10 Batch 4:  Loss:     1.0054 Validation Accuracy: 0.598200\n",
      "Epoch 20, CIFAR-10 Batch 5:  Loss:     1.1186 Validation Accuracy: 0.600000\n",
      "Epoch 21, CIFAR-10 Batch 1:  Loss:     1.0385 Validation Accuracy: 0.608200\n",
      "Epoch 21, CIFAR-10 Batch 2:  Loss:     1.1692 Validation Accuracy: 0.605000\n",
      "Epoch 21, CIFAR-10 Batch 3:  Loss:     0.9306 Validation Accuracy: 0.605600\n",
      "Epoch 21, CIFAR-10 Batch 4:  Loss:     0.9686 Validation Accuracy: 0.612000\n",
      "Epoch 21, CIFAR-10 Batch 5:  Loss:     1.0961 Validation Accuracy: 0.596000\n",
      "Epoch 22, CIFAR-10 Batch 1:  Loss:     1.0394 Validation Accuracy: 0.606800\n",
      "Epoch 22, CIFAR-10 Batch 2:  Loss:     1.1172 Validation Accuracy: 0.607400\n",
      "Epoch 22, CIFAR-10 Batch 3:  Loss:     1.0139 Validation Accuracy: 0.583800\n",
      "Epoch 22, CIFAR-10 Batch 4:  Loss:     1.0076 Validation Accuracy: 0.611400\n",
      "Epoch 22, CIFAR-10 Batch 5:  Loss:     1.0736 Validation Accuracy: 0.606200\n",
      "Epoch 23, CIFAR-10 Batch 1:  Loss:     1.0534 Validation Accuracy: 0.602000\n",
      "Epoch 23, CIFAR-10 Batch 2:  Loss:     1.1757 Validation Accuracy: 0.616000\n",
      "Epoch 23, CIFAR-10 Batch 3:  Loss:     0.9340 Validation Accuracy: 0.610000\n",
      "Epoch 23, CIFAR-10 Batch 4:  Loss:     1.0066 Validation Accuracy: 0.593600\n",
      "Epoch 23, CIFAR-10 Batch 5:  Loss:     1.0737 Validation Accuracy: 0.612800\n",
      "Epoch 24, CIFAR-10 Batch 1:  Loss:     1.0223 Validation Accuracy: 0.606600\n",
      "Epoch 24, CIFAR-10 Batch 2:  Loss:     1.1577 Validation Accuracy: 0.616000\n",
      "Epoch 24, CIFAR-10 Batch 3:  Loss:     0.9504 Validation Accuracy: 0.606800\n",
      "Epoch 24, CIFAR-10 Batch 4:  Loss:     0.9576 Validation Accuracy: 0.616200\n",
      "Epoch 24, CIFAR-10 Batch 5:  Loss:     1.0340 Validation Accuracy: 0.614800\n",
      "Epoch 25, CIFAR-10 Batch 1:  Loss:     0.9908 Validation Accuracy: 0.614800\n",
      "Epoch 25, CIFAR-10 Batch 2:  Loss:     1.0767 Validation Accuracy: 0.622600\n",
      "Epoch 25, CIFAR-10 Batch 3:  Loss:     0.9391 Validation Accuracy: 0.609000\n",
      "Epoch 25, CIFAR-10 Batch 4:  Loss:     0.9548 Validation Accuracy: 0.626800\n",
      "Epoch 25, CIFAR-10 Batch 5:  Loss:     1.0519 Validation Accuracy: 0.606400\n",
      "Epoch 26, CIFAR-10 Batch 1:  Loss:     0.9529 Validation Accuracy: 0.621600\n",
      "Epoch 26, CIFAR-10 Batch 2:  Loss:     1.1290 Validation Accuracy: 0.631600\n",
      "Epoch 26, CIFAR-10 Batch 3:  Loss:     0.8957 Validation Accuracy: 0.620200\n",
      "Epoch 26, CIFAR-10 Batch 4:  Loss:     0.9589 Validation Accuracy: 0.625400\n",
      "Epoch 26, CIFAR-10 Batch 5:  Loss:     1.0346 Validation Accuracy: 0.624800\n",
      "Epoch 27, CIFAR-10 Batch 1:  Loss:     0.9979 Validation Accuracy: 0.628400\n",
      "Epoch 27, CIFAR-10 Batch 2:  Loss:     1.0669 Validation Accuracy: 0.626200\n",
      "Epoch 27, CIFAR-10 Batch 3:  Loss:     0.9025 Validation Accuracy: 0.626200\n",
      "Epoch 27, CIFAR-10 Batch 4:  Loss:     0.9634 Validation Accuracy: 0.627200\n",
      "Epoch 27, CIFAR-10 Batch 5:  Loss:     1.0518 Validation Accuracy: 0.628200\n",
      "Epoch 28, CIFAR-10 Batch 1:  Loss:     0.9192 Validation Accuracy: 0.632800\n",
      "Epoch 28, CIFAR-10 Batch 2:  Loss:     1.1209 Validation Accuracy: 0.628600\n",
      "Epoch 28, CIFAR-10 Batch 3:  Loss:     0.8642 Validation Accuracy: 0.628200\n",
      "Epoch 28, CIFAR-10 Batch 4:  Loss:     0.9304 Validation Accuracy: 0.632000\n",
      "Epoch 28, CIFAR-10 Batch 5:  Loss:     1.0105 Validation Accuracy: 0.621600\n",
      "Epoch 29, CIFAR-10 Batch 1:  Loss:     0.9353 Validation Accuracy: 0.632000\n",
      "Epoch 29, CIFAR-10 Batch 2:  Loss:     1.0726 Validation Accuracy: 0.630000\n",
      "Epoch 29, CIFAR-10 Batch 3:  Loss:     0.8575 Validation Accuracy: 0.634000\n",
      "Epoch 29, CIFAR-10 Batch 4:  Loss:     0.9072 Validation Accuracy: 0.632600\n",
      "Epoch 29, CIFAR-10 Batch 5:  Loss:     0.9964 Validation Accuracy: 0.631000\n",
      "Epoch 30, CIFAR-10 Batch 1:  Loss:     0.9444 Validation Accuracy: 0.630000\n",
      "Epoch 30, CIFAR-10 Batch 2:  Loss:     1.1097 Validation Accuracy: 0.636600\n",
      "Epoch 30, CIFAR-10 Batch 3:  Loss:     0.8614 Validation Accuracy: 0.640800\n",
      "Epoch 30, CIFAR-10 Batch 4:  Loss:     0.8822 Validation Accuracy: 0.641000\n",
      "Epoch 30, CIFAR-10 Batch 5:  Loss:     0.9710 Validation Accuracy: 0.631400\n",
      "Epoch 31, CIFAR-10 Batch 1:  Loss:     0.9261 Validation Accuracy: 0.632800\n",
      "Epoch 31, CIFAR-10 Batch 2:  Loss:     1.0764 Validation Accuracy: 0.638400\n",
      "Epoch 31, CIFAR-10 Batch 3:  Loss:     0.8374 Validation Accuracy: 0.636600\n",
      "Epoch 31, CIFAR-10 Batch 4:  Loss:     0.8880 Validation Accuracy: 0.641200\n",
      "Epoch 31, CIFAR-10 Batch 5:  Loss:     0.9486 Validation Accuracy: 0.637800\n",
      "Epoch 32, CIFAR-10 Batch 1:  Loss:     0.9589 Validation Accuracy: 0.624000\n",
      "Epoch 32, CIFAR-10 Batch 2:  Loss:     1.0413 Validation Accuracy: 0.637600\n",
      "Epoch 32, CIFAR-10 Batch 3:  Loss:     0.7905 Validation Accuracy: 0.631400\n",
      "Epoch 32, CIFAR-10 Batch 4:  Loss:     0.8993 Validation Accuracy: 0.635000\n",
      "Epoch 32, CIFAR-10 Batch 5:  Loss:     0.9597 Validation Accuracy: 0.621800\n",
      "Epoch 33, CIFAR-10 Batch 1:  Loss:     0.9004 Validation Accuracy: 0.636600\n",
      "Epoch 33, CIFAR-10 Batch 2:  Loss:     1.0763 Validation Accuracy: 0.637200\n",
      "Epoch 33, CIFAR-10 Batch 3:  Loss:     0.8167 Validation Accuracy: 0.632200\n",
      "Epoch 33, CIFAR-10 Batch 4:  Loss:     0.8842 Validation Accuracy: 0.648400\n",
      "Epoch 33, CIFAR-10 Batch 5:  Loss:     0.9911 Validation Accuracy: 0.621800\n",
      "Epoch 34, CIFAR-10 Batch 1:  Loss:     0.9345 Validation Accuracy: 0.636600\n",
      "Epoch 34, CIFAR-10 Batch 2:  Loss:     1.0315 Validation Accuracy: 0.635000\n",
      "Epoch 34, CIFAR-10 Batch 3:  Loss:     0.8063 Validation Accuracy: 0.634600\n",
      "Epoch 34, CIFAR-10 Batch 4:  Loss:     0.8315 Validation Accuracy: 0.652400\n",
      "Epoch 34, CIFAR-10 Batch 5:  Loss:     0.9245 Validation Accuracy: 0.646600\n",
      "Epoch 35, CIFAR-10 Batch 1:  Loss:     0.9312 Validation Accuracy: 0.640800\n",
      "Epoch 35, CIFAR-10 Batch 2:  Loss:     1.0520 Validation Accuracy: 0.622200\n",
      "Epoch 35, CIFAR-10 Batch 3:  Loss:     0.8242 Validation Accuracy: 0.640400\n",
      "Epoch 35, CIFAR-10 Batch 4:  Loss:     0.9307 Validation Accuracy: 0.633600\n",
      "Epoch 35, CIFAR-10 Batch 5:  Loss:     0.9622 Validation Accuracy: 0.643600\n",
      "Epoch 36, CIFAR-10 Batch 1:  Loss:     0.9312 Validation Accuracy: 0.638400\n",
      "Epoch 36, CIFAR-10 Batch 2:  Loss:     1.0484 Validation Accuracy: 0.642400\n",
      "Epoch 36, CIFAR-10 Batch 3:  Loss:     0.7988 Validation Accuracy: 0.640400\n",
      "Epoch 36, CIFAR-10 Batch 4:  Loss:     0.8649 Validation Accuracy: 0.645600\n",
      "Epoch 36, CIFAR-10 Batch 5:  Loss:     0.9308 Validation Accuracy: 0.638200\n",
      "Epoch 37, CIFAR-10 Batch 1:  Loss:     0.9151 Validation Accuracy: 0.653400\n",
      "Epoch 37, CIFAR-10 Batch 2:  Loss:     1.0463 Validation Accuracy: 0.646800\n",
      "Epoch 37, CIFAR-10 Batch 3:  Loss:     0.7801 Validation Accuracy: 0.645600\n",
      "Epoch 37, CIFAR-10 Batch 4:  Loss:     0.8426 Validation Accuracy: 0.658800\n",
      "Epoch 37, CIFAR-10 Batch 5:  Loss:     0.9593 Validation Accuracy: 0.634800\n",
      "Epoch 38, CIFAR-10 Batch 1:  Loss:     0.8726 Validation Accuracy: 0.658600\n",
      "Epoch 38, CIFAR-10 Batch 2:  Loss:     0.9432 Validation Accuracy: 0.641800\n",
      "Epoch 38, CIFAR-10 Batch 3:  Loss:     0.7770 Validation Accuracy: 0.653400\n",
      "Epoch 38, CIFAR-10 Batch 4:  Loss:     0.8474 Validation Accuracy: 0.656600\n",
      "Epoch 38, CIFAR-10 Batch 5:  Loss:     0.9268 Validation Accuracy: 0.638800\n",
      "Epoch 39, CIFAR-10 Batch 1:  Loss:     0.8893 Validation Accuracy: 0.652800\n",
      "Epoch 39, CIFAR-10 Batch 2:  Loss:     1.0633 Validation Accuracy: 0.653000\n",
      "Epoch 39, CIFAR-10 Batch 3:  Loss:     0.7286 Validation Accuracy: 0.648800\n",
      "Epoch 39, CIFAR-10 Batch 4:  Loss:     0.8188 Validation Accuracy: 0.655600\n",
      "Epoch 39, CIFAR-10 Batch 5:  Loss:     0.9245 Validation Accuracy: 0.657400\n",
      "Epoch 40, CIFAR-10 Batch 1:  Loss:     0.8807 Validation Accuracy: 0.649200\n",
      "Epoch 40, CIFAR-10 Batch 2:  Loss:     0.9597 Validation Accuracy: 0.650400\n",
      "Epoch 40, CIFAR-10 Batch 3:  Loss:     0.7268 Validation Accuracy: 0.655800\n",
      "Epoch 40, CIFAR-10 Batch 4:  Loss:     0.8213 Validation Accuracy: 0.660200\n",
      "Epoch 40, CIFAR-10 Batch 5:  Loss:     0.9435 Validation Accuracy: 0.649400\n",
      "Epoch 41, CIFAR-10 Batch 1:  Loss:     0.8691 Validation Accuracy: 0.656200\n",
      "Epoch 41, CIFAR-10 Batch 2:  Loss:     1.0096 Validation Accuracy: 0.653600\n",
      "Epoch 41, CIFAR-10 Batch 3:  Loss:     0.7436 Validation Accuracy: 0.665800\n",
      "Epoch 41, CIFAR-10 Batch 4:  Loss:     0.8386 Validation Accuracy: 0.659800\n",
      "Epoch 41, CIFAR-10 Batch 5:  Loss:     0.8866 Validation Accuracy: 0.649600\n",
      "Epoch 42, CIFAR-10 Batch 1:  Loss:     0.8506 Validation Accuracy: 0.650800\n",
      "Epoch 42, CIFAR-10 Batch 2:  Loss:     0.9331 Validation Accuracy: 0.656800\n",
      "Epoch 42, CIFAR-10 Batch 3:  Loss:     0.7504 Validation Accuracy: 0.664600\n",
      "Epoch 42, CIFAR-10 Batch 4:  Loss:     0.7900 Validation Accuracy: 0.656800\n",
      "Epoch 42, CIFAR-10 Batch 5:  Loss:     0.9116 Validation Accuracy: 0.644400\n",
      "Epoch 43, CIFAR-10 Batch 1:  Loss:     0.8304 Validation Accuracy: 0.662600\n",
      "Epoch 43, CIFAR-10 Batch 2:  Loss:     0.9623 Validation Accuracy: 0.658400\n",
      "Epoch 43, CIFAR-10 Batch 3:  Loss:     0.6961 Validation Accuracy: 0.659000\n",
      "Epoch 43, CIFAR-10 Batch 4:  Loss:     0.7997 Validation Accuracy: 0.665000\n",
      "Epoch 43, CIFAR-10 Batch 5:  Loss:     0.9721 Validation Accuracy: 0.653800\n",
      "Epoch 44, CIFAR-10 Batch 1:  Loss:     0.8554 Validation Accuracy: 0.665800\n",
      "Epoch 44, CIFAR-10 Batch 2:  Loss:     0.9153 Validation Accuracy: 0.660400\n",
      "Epoch 44, CIFAR-10 Batch 3:  Loss:     0.6859 Validation Accuracy: 0.657200\n",
      "Epoch 44, CIFAR-10 Batch 4:  Loss:     0.8118 Validation Accuracy: 0.665000\n",
      "Epoch 44, CIFAR-10 Batch 5:  Loss:     0.8824 Validation Accuracy: 0.655800\n",
      "Epoch 45, CIFAR-10 Batch 1:  Loss:     0.8712 Validation Accuracy: 0.659000\n",
      "Epoch 45, CIFAR-10 Batch 2:  Loss:     0.8901 Validation Accuracy: 0.662800\n",
      "Epoch 45, CIFAR-10 Batch 3:  Loss:     0.7477 Validation Accuracy: 0.665000\n",
      "Epoch 45, CIFAR-10 Batch 4:  Loss:     0.8417 Validation Accuracy: 0.658400\n",
      "Epoch 45, CIFAR-10 Batch 5:  Loss:     0.8974 Validation Accuracy: 0.655000\n",
      "Epoch 46, CIFAR-10 Batch 1:  Loss:     0.8230 Validation Accuracy: 0.661000\n",
      "Epoch 46, CIFAR-10 Batch 2:  Loss:     0.8973 Validation Accuracy: 0.659000\n",
      "Epoch 46, CIFAR-10 Batch 3:  Loss:     0.7343 Validation Accuracy: 0.663600\n",
      "Epoch 46, CIFAR-10 Batch 4:  Loss:     0.7833 Validation Accuracy: 0.664800\n",
      "Epoch 46, CIFAR-10 Batch 5:  Loss:     0.8343 Validation Accuracy: 0.663800\n",
      "Epoch 47, CIFAR-10 Batch 1:  Loss:     0.8185 Validation Accuracy: 0.667200\n",
      "Epoch 47, CIFAR-10 Batch 2:  Loss:     0.9074 Validation Accuracy: 0.664200\n",
      "Epoch 47, CIFAR-10 Batch 3:  Loss:     0.6995 Validation Accuracy: 0.666600\n",
      "Epoch 47, CIFAR-10 Batch 4:  Loss:     0.7940 Validation Accuracy: 0.666200\n",
      "Epoch 47, CIFAR-10 Batch 5:  Loss:     0.8745 Validation Accuracy: 0.663000\n",
      "Epoch 48, CIFAR-10 Batch 1:  Loss:     0.8271 Validation Accuracy: 0.661800\n",
      "Epoch 48, CIFAR-10 Batch 2:  Loss:     0.9638 Validation Accuracy: 0.656200\n",
      "Epoch 48, CIFAR-10 Batch 3:  Loss:     0.6992 Validation Accuracy: 0.664600\n",
      "Epoch 48, CIFAR-10 Batch 4:  Loss:     0.7878 Validation Accuracy: 0.664200\n",
      "Epoch 48, CIFAR-10 Batch 5:  Loss:     0.9003 Validation Accuracy: 0.657200\n",
      "Epoch 49, CIFAR-10 Batch 1:  Loss:     0.8145 Validation Accuracy: 0.670400\n",
      "Epoch 49, CIFAR-10 Batch 2:  Loss:     0.8546 Validation Accuracy: 0.663600\n",
      "Epoch 49, CIFAR-10 Batch 3:  Loss:     0.7210 Validation Accuracy: 0.668600\n",
      "Epoch 49, CIFAR-10 Batch 4:  Loss:     0.8015 Validation Accuracy: 0.660200\n",
      "Epoch 49, CIFAR-10 Batch 5:  Loss:     0.8532 Validation Accuracy: 0.661400\n",
      "Epoch 50, CIFAR-10 Batch 1:  Loss:     0.7951 Validation Accuracy: 0.663400\n",
      "Epoch 50, CIFAR-10 Batch 2:  Loss:     0.8702 Validation Accuracy: 0.658400\n",
      "Epoch 50, CIFAR-10 Batch 3:  Loss:     0.6795 Validation Accuracy: 0.667800\n",
      "Epoch 50, CIFAR-10 Batch 4:  Loss:     0.7727 Validation Accuracy: 0.674000\n",
      "Epoch 50, CIFAR-10 Batch 5:  Loss:     0.8924 Validation Accuracy: 0.667000\n"
     ]
    }
   ],
   "source": [
    "\"\"\"\n",
    "DON'T MODIFY ANYTHING IN THIS CELL\n",
    "\"\"\"\n",
    "save_model_path = './image_classification'\n",
    "\n",
    "print('Training...')\n",
    "with tf.Session() as sess:\n",
    "    # Initializing the variables\n",
    "    sess.run(tf.global_variables_initializer())\n",
    "    \n",
    "    # Training cycle\n",
    "    for epoch in range(epochs):\n",
    "        # Loop over all batches\n",
    "        n_batches = 5\n",
    "        for batch_i in range(1, n_batches + 1):\n",
    "            for batch_features, batch_labels in helper.load_preprocess_training_batch(batch_i, batch_size):\n",
    "                train_neural_network(sess, optimizer, keep_probability, batch_features, batch_labels)\n",
    "            print('Epoch {:>2}, CIFAR-10 Batch {}:  '.format(epoch + 1, batch_i), end='')\n",
    "            print_stats(sess, batch_features, batch_labels, cost, accuracy)\n",
    "            \n",
    "    # Save Model\n",
    "    saver = tf.train.Saver()\n",
    "    save_path = saver.save(sess, save_model_path)"
   ]
  },
  {
   "cell_type": "markdown",
   "metadata": {},
   "source": [
    "# Checkpoint\n",
    "The model has been saved to disk.\n",
    "## Test Model\n",
    "Test your model against the test dataset.  This will be your final accuracy. You should have an accuracy greater than 50%. If you don't, keep tweaking the model architecture and parameters."
   ]
  },
  {
   "cell_type": "code",
   "execution_count": 100,
   "metadata": {
    "collapsed": false
   },
   "outputs": [
    {
     "name": "stdout",
     "output_type": "stream",
     "text": [
      "Testing Accuracy: 0.6584256329113924\n",
      "\n"
     ]
    },
    {
     "data": {
      "image/png": "[encoded data removed]",
      "text/plain": [
       "<matplotlib.figure.Figure at 0x121c8add8>"
      ]
     },
     "metadata": {
      "image/png": {
       "height": 319,
       "width": 355
      }
     },
     "output_type": "display_data"
    }
   ],
   "source": [
    "\"\"\"\n",
    "DON'T MODIFY ANYTHING IN THIS CELL\n",
    "\"\"\"\n",
    "%matplotlib inline\n",
    "%config InlineBackend.figure_format = 'retina'\n",
    "\n",
    "import tensorflow as tf\n",
    "import pickle\n",
    "import helper\n",
    "import random\n",
    "\n",
    "# Set batch size if not already set\n",
    "try:\n",
    "    if batch_size:\n",
    "        pass\n",
    "except NameError:\n",
    "    batch_size = 64\n",
    "\n",
    "save_model_path = './image_classification'\n",
    "n_samples = 4\n",
    "top_n_predictions = 3\n",
    "\n",
    "def test_model():\n",
    "    \"\"\"\n",
    "    Test the saved model against the test dataset\n",
    "    \"\"\"\n",
    "\n",
    "    test_features, test_labels = pickle.load(open('preprocess_test.p', mode='rb'))\n",
    "    loaded_graph = tf.Graph()\n",
    "\n",
    "    with tf.Session(graph=loaded_graph) as sess:\n",
    "        # Load model\n",
    "        loader = tf.train.import_meta_graph(save_model_path + '.meta')\n",
    "        loader.restore(sess, save_model_path)\n",
    "\n",
    "        # Get Tensors from loaded model\n",
    "        loaded_x = loaded_graph.get_tensor_by_name('x:0')\n",
    "        loaded_y = loaded_graph.get_tensor_by_name('y:0')\n",
    "        loaded_keep_prob = loaded_graph.get_tensor_by_name('keep_prob:0')\n",
    "        loaded_logits = loaded_graph.get_tensor_by_name('logits:0')\n",
    "        loaded_acc = loaded_graph.get_tensor_by_name('accuracy:0')\n",
    "        \n",
    "        # Get accuracy in batches for memory limitations\n",
    "        test_batch_acc_total = 0\n",
    "        test_batch_count = 0\n",
    "        \n",
    "        for test_feature_batch, test_label_batch in helper.batch_features_labels(test_features, test_labels, batch_size):\n",
    "            test_batch_acc_total += sess.run(\n",
    "                loaded_acc,\n",
    "                feed_dict={loaded_x: test_feature_batch, loaded_y: test_label_batch, loaded_keep_prob: 1.0})\n",
    "            test_batch_count += 1\n",
    "\n",
    "        print('Testing Accuracy: {}\\n'.format(test_batch_acc_total/test_batch_count))\n",
    "\n",
    "        # Print Random Samples\n",
    "        random_test_features, random_test_labels = tuple(zip(*random.sample(list(zip(test_features, test_labels)), n_samples)))\n",
    "        random_test_predictions = sess.run(\n",
    "            tf.nn.top_k(tf.nn.softmax(loaded_logits), top_n_predictions),\n",
    "            feed_dict={loaded_x: random_test_features, loaded_y: random_test_labels, loaded_keep_prob: 1.0})\n",
    "        helper.display_image_predictions(random_test_features, random_test_labels, random_test_predictions)\n",
    "\n",
    "\n",
    "test_model()"
   ]
  },
  {
   "cell_type": "markdown",
   "metadata": {},
   "source": [
    "## Why 50-80% Accuracy?\n",
    "You might be wondering why you can't get an accuracy any higher. First things first, 50% isn't bad for a simple CNN.  Pure guessing would get you 10% accuracy. However, you might notice people are getting scores [well above 80%](http://rodrigob.github.io/are_we_there_yet/build/classification_datasets_results.html#43494641522d3130).  That's because we haven't taught you all there is to know about neural networks. We still need to cover a few more techniques.\n",
    "## Submitting This Project\n",
    "When submitting this project, make sure to run all the cells before saving the notebook.  Save the notebook file as \"dlnd_image_classification.ipynb\" and save it as a HTML file under \"File\" -> \"Download as\".  Include the \"helper.py\" and \"problem_unittests.py\" files in your submission."
   ]
  }
 ],
 "metadata": {
  "anaconda-cloud": {},
  "kernelspec": {
   "display_name": "Python 3",
   "language": "python",
   "name": "python3"
  },
  "language_info": {
   "codemirror_mode": {
    "name": "ipython",
    "version": 3
   },
   "file_extension": ".py",
   "mimetype": "text/x-python",
   "name": "python",
   "nbconvert_exporter": "python",
   "pygments_lexer": "ipython3",
   "version": "3.6.0"
  }
 },
 "nbformat": 4,
 "nbformat_minor": 0
}
